{
 "metadata": {
  "language_info": {
   "codemirror_mode": {
    "name": "ipython",
    "version": 3
   },
   "file_extension": ".py",
   "mimetype": "text/x-python",
   "name": "python",
   "nbconvert_exporter": "python",
   "pygments_lexer": "ipython3",
   "version": "3.8.5-final"
  },
  "orig_nbformat": 2,
  "kernelspec": {
   "name": "python3",
   "display_name": "Python 3.8.5 64-bit",
   "metadata": {
    "interpreter": {
     "hash": "31f2aee4e71d21fbe5cf8b01ff0e069b9275f58929596ceb00d14d90e3e16cd6"
    }
   }
  }
 },
 "nbformat": 4,
 "nbformat_minor": 2,
 "cells": [
  {
   "cell_type": "code",
   "execution_count": 1,
   "metadata": {},
   "outputs": [],
   "source": [
    "import numpy as np\n",
    "import matplotlib.pyplot as plt"
   ]
  },
  {
   "source": [
    "Part 1: Ranking the teams\n",
    "===\n",
    "\n",
    "Starting with a matrix of scores, I need to rank the teams. To do this, I want to follow the massey method. I made `make_massey` to build a matrix and scores. I simply send my scores into that, and then I get out M and q. After this I can use a least squares regression to find the rankings. And lastly I made a print function to print out the teams in the proper rankings."
   ],
   "cell_type": "markdown",
   "metadata": {}
  },
  {
   "cell_type": "code",
   "execution_count": 2,
   "metadata": {},
   "outputs": [],
   "source": [
    "# Input my scores, generated from wolfram alpha page\n",
    "scores = {(\"A\", \"B\") : -14, (\"A\", \"C\") : -31, (\"A\", \"D\") : 18, (\"B\", \"C\") : 6, (\"B\", \"D\") : -26, (\"C\", \"D\") : -12}"
   ]
  },
  {
   "source": [
    "**make_massey**\n",
    "\n",
    "The make_massey method takes a python dictionary of tuples pointed to ints. The tuple is a tuple of 2 strings, one for each team. The int is the score. So the input should be of the form \n",
    "> `{...,(\"team i\", \"team j\"): score, ...}`\n",
    "\n",
    "The return is M, q, and a dict of teams. The dict is to allow for printing later on\n",
    "\n",
    "My function will iterate through the keys and values. If a key is not in M, then it is added and my array is resized. Then, for team number i and team number j, I add one to Mii, add one to Mjj, and subtract one from Mij and Mji. This is following the massey method shortcut. I then add my scores to the q. \n",
    "\n",
    "Finally, I just replace the last row with ones in M, and the last value in q with 0. Again, this is following the shortcut massey method. \n",
    "\n",
    "**print_results**\n",
    "\n",
    "This method takes the results of a least squares on the massey results, and then will print out the result. It simply loops through and will print out the teams by name and by rank"
   ],
   "cell_type": "markdown",
   "metadata": {}
  },
  {
   "cell_type": "code",
   "execution_count": 3,
   "metadata": {},
   "outputs": [],
   "source": [
    "def make_massey (d):\n",
    "    teams = {next(iter(d))[0]: 0}   # Start a new dict with first team\n",
    "    massey = np.zeros((1,1), int)   # a 1x1 matrix for our 1 team\n",
    "    team_index = 1    # We have the 1 team so far\n",
    "    q = np.array([0])   # Our first score starts at 0\n",
    "\n",
    "    for k, v in d.items():\n",
    "        # One or both may not be contained. lets write two if (add) statements to remedy that\n",
    "        if (not (k[0] in teams)):\n",
    "            # First team isn't contained. Add it, resize massey, and set my q\n",
    "            teams[k[0]] = team_index\n",
    "            team_index += 1\n",
    "\n",
    "            rows, cols = massey.shape\n",
    "            massey = np.vstack((massey, np.zeros((1, cols), int))  )\n",
    "            massey = np.hstack((massey, np.zeros((rows + 1, cols), int))  )\n",
    "            q = np.append(q, 0)\n",
    "\n",
    "        if (not (k[1] in teams)):\n",
    "            # Now my second team isn't contained. Again, add it, resize massey, set q\n",
    "            teams[k[1]] = team_index\n",
    "            team_index += 1\n",
    "\n",
    "            rows, cols = massey.shape\n",
    "            massey = np.vstack((massey, np.zeros((1, cols), int))  )\n",
    "            massey = np.hstack((massey, np.zeros((rows + 1, 1), int))  )\n",
    "            q = np.append(q, 0)\n",
    "                \n",
    "        # Now I know that both are contained. I can go through adding my stuff\n",
    "        massey[teams[k[0]]][teams[k[0]]] += 1  # Adding one to Mii\n",
    "        massey[teams[k[1]]][teams[k[1]]] += 1  # Adding one to Mjj\n",
    "        massey[teams[k[0]]][teams[k[1]]] -= 1  # Want negative times i and j have played\n",
    "        massey[teams[k[1]]][teams[k[0]]] -= 1  # Want negative times i and j have played\n",
    "\n",
    "        # Now update my scores\n",
    "        q[teams[k[0]]] += v\n",
    "        q[teams[k[1]]] += (-1*v)\n",
    "    \n",
    "    # Make sure to set bottom row to all ones, and last q to 0\n",
    "    rows, cols = massey.shape\n",
    "    massey[rows - 1, :] = np.ones((1, cols), int)\n",
    "    q[-1] = 0\n",
    "    # Returning the teams is needed for later things\n",
    "    return (massey, q, teams)\n",
    "\n",
    "# A little helper to get me a key based off a value\n",
    "def get_key(val, team_d):\n",
    "    for key, value in team_d.items():\n",
    "         if val == value:\n",
    "             return key\n",
    " \n",
    "    return \"key doesn't exist\"\n",
    "\n",
    "def print_ranks (r, team_d):\n",
    "    temp = {}\n",
    "    rankings = {}\n",
    "    r = r.tolist()\n",
    "    #find index of max ranking. Get the team that has that ranking. Print it\n",
    "    for i, rank in enumerate(r):\n",
    "        temp[i] = rank\n",
    "    \n",
    "    r.sort(reverse=True)\n",
    "\n",
    "    for i, rank in enumerate(r):\n",
    "        rankings[rank] = get_key(get_key(rank, temp), team_d)\n",
    "\n",
    "    # Going through and printing the teams\n",
    "    i = 1\n",
    "    for rank, name in rankings.items():\n",
    "        print(str(i) + \".\", name, \"has rank = \", rank)\n",
    "        i += 1\n"
   ]
  },
  {
   "cell_type": "code",
   "execution_count": 11,
   "metadata": {},
   "outputs": [
    {
     "output_type": "stream",
     "name": "stdout",
     "text": [
      "1. A has rank =  0.0\n"
     ]
    }
   ],
   "source": [
    "s = {(\"A\", \"B\") : 8, (\"B\", \"C\") : 8, (\"C\", \"A\") : 8}\n",
    "M, q, list = make_massey(s)\n",
    "r, j, k, l = np.linalg.lstsq(M, q, rcond=None)\n",
    "\n",
    "# Round r to 5 digits to make it pretty\n",
    "r = r.round(decimals=5)\n",
    "\n",
    "# And print the result\n",
    "print_ranks(r, team_list)"
   ]
  },
  {
   "cell_type": "code",
   "execution_count": 5,
   "metadata": {},
   "outputs": [
    {
     "output_type": "stream",
     "name": "stdout",
     "text": [
      "1. D has rank =  5.0\n2. C has rank =  3.25\n3. B has rank =  -1.5\n4. A has rank =  -6.75\n"
     ]
    }
   ],
   "source": [
    "# Find the massey M and q\r\n",
    "M, q, team_list = make_massey(scores)\r\n",
    "\r\n",
    "# We do a least squares to get our ranking\r\n",
    "r, j, k, l = np.linalg.lstsq(M, q, rcond=None)\r\n",
    "\r\n",
    "# Round r to 5 digits to make it pretty\r\n",
    "r = r.round(decimals=5)\r\n",
    "\r\n",
    "# And print the result\r\n",
    "print_ranks(r, team_list)\r\n",
    "\r\n"
   ]
  },
  {
   "source": [
    "Part 2\n",
    "===\n",
    "\n",
    "Now, I want to predict the final game. Lets hypothetically say that C and D will be playing. How would I predict the score? Well, use their rankings we just calculated"
   ],
   "cell_type": "markdown",
   "metadata": {}
  },
  {
   "source": [
    "Question 1 and 2: Predicted winner\n",
    "---\n",
    "\n",
    "So to find the predicted winner, I need to find the difference in their scores. The winner has the higher rank, and the point difference will be the difference in their points"
   ],
   "cell_type": "markdown",
   "metadata": {}
  },
  {
   "cell_type": "code",
   "execution_count": 6,
   "metadata": {},
   "outputs": [
    {
     "output_type": "stream",
     "name": "stdout",
     "text": [
      "C will win by -1.75 points.\nThis means D is predicted to win by 1.75 points\n"
     ]
    }
   ],
   "source": [
    "drank = 5.0\n",
    "crank = 3.25\n",
    "# We can trivially tell d will beat c\n",
    "\n",
    "print(\"C will win by\", crank-drank, \"points.\")\n",
    "print(\"This means D is predicted to win by\", drank-crank, \"points\")\n"
   ]
  },
  {
   "source": [
    "Part 3\n",
    "===\n",
    "\n",
    "Now, I want to do a theoretical game between C and D. The most abstracted way to do it would be use a symbolic value for my score. However, I am going to brute force it and calculate the ranking for each value from -50 to 50"
   ],
   "cell_type": "markdown",
   "metadata": {}
  },
  {
   "source": [
    "Question 1: C and D play\n",
    "---\n",
    "\n",
    "Now, C and D play. The score range will be -50 to 50. Lets find the equal point, then anyscore higher then that C will be ranked higher then D, and any score lower D will remain ranked higher then C"
   ],
   "cell_type": "markdown",
   "metadata": {}
  },
  {
   "cell_type": "code",
   "execution_count": 7,
   "metadata": {},
   "outputs": [
    {
     "output_type": "stream",
     "name": "stdout",
     "text": [
      "If the score difference is greater then -8, then C will be ranked higher\n"
     ]
    }
   ],
   "source": [
    "scores2 = scores\n",
    "# Now, go through the range. I want to find when rank[team_list[\"C\"]] == rank[team_list[\"D\"]]\n",
    "for i in range(-50, 50):\n",
    "    scores2[(\"C\", \"D\")] = i\n",
    "    M2, q2, list = make_massey(scores2)\n",
    "    r2, j, k, l = np.linalg.lstsq(M2, q2, rcond=None)\n",
    "\n",
    "    if (r2[list[\"C\"]] >= r2[list[\"D\"]]):\n",
    "        print(\"If the score difference is greater then\", str(i) + \", then C will be ranked higher\")\n",
    "        break"
   ]
  },
  {
   "cell_type": "code",
   "execution_count": 8,
   "metadata": {},
   "outputs": [
    {
     "output_type": "execute_result",
     "data": {
      "text/plain": [
       "array([-6.75, -1.5 ,  8.75, -0.5 ])"
      ]
     },
     "metadata": {},
     "execution_count": 8
    }
   ],
   "source": [
    "scores5 = scores\n",
    "scores5[(\"C\", \"D\")] = 10\n",
    "M5, q5, list = make_massey(scores5)\n",
    "r5, j, k, l = np.linalg.lstsq(M5, q5, rcond=None)\n",
    "r5"
   ]
  },
  {
   "source": [
    "Question 2: The rankings\n",
    "---\n",
    "\n",
    "Regardless of the outcome, A and B will never be effected. So a ranking that is not possible after this game is\n",
    "> `[D, C, A, B]`\n",
    "\n",
    "Team A will always be behind B"
   ],
   "cell_type": "markdown",
   "metadata": {}
  },
  {
   "source": [
    "Question 3: Now, we want to make a new rankings\n",
    "---\n",
    "\n",
    "As stated above, the rankings for A and B will not change over time. But for the other rankings, lets go through and plot them all."
   ],
   "cell_type": "markdown",
   "metadata": {}
  },
  {
   "cell_type": "code",
   "execution_count": 9,
   "metadata": {},
   "outputs": [
    {
     "output_type": "display_data",
     "data": {
      "text/plain": "<Figure size 432x288 with 1 Axes>",
      "image/svg+xml": "<?xml version=\"1.0\" encoding=\"utf-8\" standalone=\"no\"?>\n<!DOCTYPE svg PUBLIC \"-//W3C//DTD SVG 1.1//EN\"\n  \"http://www.w3.org/Graphics/SVG/1.1/DTD/svg11.dtd\">\n<!-- Created with matplotlib (https://matplotlib.org/) -->\n<svg height=\"248.518125pt\" version=\"1.1\" viewBox=\"0 0 377.304687 248.518125\" width=\"377.304687pt\" xmlns=\"http://www.w3.org/2000/svg\" xmlns:xlink=\"http://www.w3.org/1999/xlink\">\n <metadata>\n  <rdf:RDF xmlns:cc=\"http://creativecommons.org/ns#\" xmlns:dc=\"http://purl.org/dc/elements/1.1/\" xmlns:rdf=\"http://www.w3.org/1999/02/22-rdf-syntax-ns#\">\n   <cc:Work>\n    <dc:type rdf:resource=\"http://purl.org/dc/dcmitype/StillImage\"/>\n    <dc:date>2021-03-23T14:30:39.313582</dc:date>\n    <dc:format>image/svg+xml</dc:format>\n    <dc:creator>\n     <cc:Agent>\n      <dc:title>Matplotlib v3.3.4, https://matplotlib.org/</dc:title>\n     </cc:Agent>\n    </dc:creator>\n   </cc:Work>\n  </rdf:RDF>\n </metadata>\n <defs>\n  <style type=\"text/css\">*{stroke-linecap:butt;stroke-linejoin:round;}</style>\n </defs>\n <g id=\"figure_1\">\n  <g id=\"patch_1\">\n   <path d=\"M 0 248.518125 \nL 377.304687 248.518125 \nL 377.304687 0 \nL 0 0 \nz\n\" style=\"fill:none;\"/>\n  </g>\n  <g id=\"axes_1\">\n   <g id=\"patch_2\">\n    <path d=\"M 35.304688 224.64 \nL 370.104688 224.64 \nL 370.104688 7.2 \nL 35.304688 7.2 \nz\n\" style=\"fill:#ffffff;\"/>\n   </g>\n   <g id=\"matplotlib.axis_1\">\n    <g id=\"xtick_1\">\n     <g id=\"line2d_1\">\n      <path clip-path=\"url(#p548e6db642)\" d=\"M 81.266671 224.64 \nL 81.266671 7.2 \n\" style=\"fill:none;stroke:#b0b0b0;stroke-linecap:square;stroke-width:0.8;\"/>\n     </g>\n     <g id=\"line2d_2\">\n      <defs>\n       <path d=\"M 0 0 \nL 0 3.5 \n\" id=\"ma58e4bc8b2\" style=\"stroke:#000000;stroke-width:0.8;\"/>\n      </defs>\n      <g>\n       <use style=\"stroke:#000000;stroke-width:0.8;\" x=\"81.266671\" xlink:href=\"#ma58e4bc8b2\" y=\"224.64\"/>\n      </g>\n     </g>\n     <g id=\"text_1\">\n      <!-- −40 -->\n      <g transform=\"translate(70.714327 239.238437)scale(0.1 -0.1)\">\n       <defs>\n        <path d=\"M 10.59375 35.5 \nL 73.1875 35.5 \nL 73.1875 27.203125 \nL 10.59375 27.203125 \nz\n\" id=\"DejaVuSans-8722\"/>\n        <path d=\"M 37.796875 64.3125 \nL 12.890625 25.390625 \nL 37.796875 25.390625 \nz\nM 35.203125 72.90625 \nL 47.609375 72.90625 \nL 47.609375 25.390625 \nL 58.015625 25.390625 \nL 58.015625 17.1875 \nL 47.609375 17.1875 \nL 47.609375 0 \nL 37.796875 0 \nL 37.796875 17.1875 \nL 4.890625 17.1875 \nL 4.890625 26.703125 \nz\n\" id=\"DejaVuSans-52\"/>\n        <path d=\"M 31.78125 66.40625 \nQ 24.171875 66.40625 20.328125 58.90625 \nQ 16.5 51.421875 16.5 36.375 \nQ 16.5 21.390625 20.328125 13.890625 \nQ 24.171875 6.390625 31.78125 6.390625 \nQ 39.453125 6.390625 43.28125 13.890625 \nQ 47.125 21.390625 47.125 36.375 \nQ 47.125 51.421875 43.28125 58.90625 \nQ 39.453125 66.40625 31.78125 66.40625 \nz\nM 31.78125 74.21875 \nQ 44.046875 74.21875 50.515625 64.515625 \nQ 56.984375 54.828125 56.984375 36.375 \nQ 56.984375 17.96875 50.515625 8.265625 \nQ 44.046875 -1.421875 31.78125 -1.421875 \nQ 19.53125 -1.421875 13.0625 8.265625 \nQ 6.59375 17.96875 6.59375 36.375 \nQ 6.59375 54.828125 13.0625 64.515625 \nQ 19.53125 74.21875 31.78125 74.21875 \nz\n\" id=\"DejaVuSans-48\"/>\n       </defs>\n       <use xlink:href=\"#DejaVuSans-8722\"/>\n       <use x=\"83.789062\" xlink:href=\"#DejaVuSans-52\"/>\n       <use x=\"147.412109\" xlink:href=\"#DejaVuSans-48\"/>\n      </g>\n     </g>\n    </g>\n    <g id=\"xtick_2\">\n     <g id=\"line2d_3\">\n      <path clip-path=\"url(#p548e6db642)\" d=\"M 142.754274 224.64 \nL 142.754274 7.2 \n\" style=\"fill:none;stroke:#b0b0b0;stroke-linecap:square;stroke-width:0.8;\"/>\n     </g>\n     <g id=\"line2d_4\">\n      <g>\n       <use style=\"stroke:#000000;stroke-width:0.8;\" x=\"142.754274\" xlink:href=\"#ma58e4bc8b2\" y=\"224.64\"/>\n      </g>\n     </g>\n     <g id=\"text_2\">\n      <!-- −20 -->\n      <g transform=\"translate(132.201931 239.238437)scale(0.1 -0.1)\">\n       <defs>\n        <path d=\"M 19.1875 8.296875 \nL 53.609375 8.296875 \nL 53.609375 0 \nL 7.328125 0 \nL 7.328125 8.296875 \nQ 12.9375 14.109375 22.625 23.890625 \nQ 32.328125 33.6875 34.8125 36.53125 \nQ 39.546875 41.84375 41.421875 45.53125 \nQ 43.3125 49.21875 43.3125 52.78125 \nQ 43.3125 58.59375 39.234375 62.25 \nQ 35.15625 65.921875 28.609375 65.921875 \nQ 23.96875 65.921875 18.8125 64.3125 \nQ 13.671875 62.703125 7.8125 59.421875 \nL 7.8125 69.390625 \nQ 13.765625 71.78125 18.9375 73 \nQ 24.125 74.21875 28.421875 74.21875 \nQ 39.75 74.21875 46.484375 68.546875 \nQ 53.21875 62.890625 53.21875 53.421875 \nQ 53.21875 48.921875 51.53125 44.890625 \nQ 49.859375 40.875 45.40625 35.40625 \nQ 44.1875 33.984375 37.640625 27.21875 \nQ 31.109375 20.453125 19.1875 8.296875 \nz\n\" id=\"DejaVuSans-50\"/>\n       </defs>\n       <use xlink:href=\"#DejaVuSans-8722\"/>\n       <use x=\"83.789062\" xlink:href=\"#DejaVuSans-50\"/>\n       <use x=\"147.412109\" xlink:href=\"#DejaVuSans-48\"/>\n      </g>\n     </g>\n    </g>\n    <g id=\"xtick_3\">\n     <g id=\"line2d_5\">\n      <path clip-path=\"url(#p548e6db642)\" d=\"M 204.241878 224.64 \nL 204.241878 7.2 \n\" style=\"fill:none;stroke:#b0b0b0;stroke-linecap:square;stroke-width:0.8;\"/>\n     </g>\n     <g id=\"line2d_6\">\n      <g>\n       <use style=\"stroke:#000000;stroke-width:0.8;\" x=\"204.241878\" xlink:href=\"#ma58e4bc8b2\" y=\"224.64\"/>\n      </g>\n     </g>\n     <g id=\"text_3\">\n      <!-- 0 -->\n      <g transform=\"translate(201.060628 239.238437)scale(0.1 -0.1)\">\n       <use xlink:href=\"#DejaVuSans-48\"/>\n      </g>\n     </g>\n    </g>\n    <g id=\"xtick_4\">\n     <g id=\"line2d_7\">\n      <path clip-path=\"url(#p548e6db642)\" d=\"M 265.729481 224.64 \nL 265.729481 7.2 \n\" style=\"fill:none;stroke:#b0b0b0;stroke-linecap:square;stroke-width:0.8;\"/>\n     </g>\n     <g id=\"line2d_8\">\n      <g>\n       <use style=\"stroke:#000000;stroke-width:0.8;\" x=\"265.729481\" xlink:href=\"#ma58e4bc8b2\" y=\"224.64\"/>\n      </g>\n     </g>\n     <g id=\"text_4\">\n      <!-- 20 -->\n      <g transform=\"translate(259.366981 239.238437)scale(0.1 -0.1)\">\n       <use xlink:href=\"#DejaVuSans-50\"/>\n       <use x=\"63.623047\" xlink:href=\"#DejaVuSans-48\"/>\n      </g>\n     </g>\n    </g>\n    <g id=\"xtick_5\">\n     <g id=\"line2d_9\">\n      <path clip-path=\"url(#p548e6db642)\" d=\"M 327.217084 224.64 \nL 327.217084 7.2 \n\" style=\"fill:none;stroke:#b0b0b0;stroke-linecap:square;stroke-width:0.8;\"/>\n     </g>\n     <g id=\"line2d_10\">\n      <g>\n       <use style=\"stroke:#000000;stroke-width:0.8;\" x=\"327.217084\" xlink:href=\"#ma58e4bc8b2\" y=\"224.64\"/>\n      </g>\n     </g>\n     <g id=\"text_5\">\n      <!-- 40 -->\n      <g transform=\"translate(320.854584 239.238437)scale(0.1 -0.1)\">\n       <use xlink:href=\"#DejaVuSans-52\"/>\n       <use x=\"63.623047\" xlink:href=\"#DejaVuSans-48\"/>\n      </g>\n     </g>\n    </g>\n   </g>\n   <g id=\"matplotlib.axis_2\">\n    <g id=\"ytick_1\">\n     <g id=\"line2d_11\">\n      <path clip-path=\"url(#p548e6db642)\" d=\"M 35.304688 213.03747 \nL 370.104688 213.03747 \n\" style=\"fill:none;stroke:#b0b0b0;stroke-linecap:square;stroke-width:0.8;\"/>\n     </g>\n     <g id=\"line2d_12\">\n      <defs>\n       <path d=\"M 0 0 \nL -3.5 0 \n\" id=\"mb0b921d2ff\" style=\"stroke:#000000;stroke-width:0.8;\"/>\n      </defs>\n      <g>\n       <use style=\"stroke:#000000;stroke-width:0.8;\" x=\"35.304688\" xlink:href=\"#mb0b921d2ff\" y=\"213.03747\"/>\n      </g>\n     </g>\n     <g id=\"text_6\">\n      <!-- −10 -->\n      <g transform=\"translate(7.2 216.836689)scale(0.1 -0.1)\">\n       <defs>\n        <path d=\"M 12.40625 8.296875 \nL 28.515625 8.296875 \nL 28.515625 63.921875 \nL 10.984375 60.40625 \nL 10.984375 69.390625 \nL 28.421875 72.90625 \nL 38.28125 72.90625 \nL 38.28125 8.296875 \nL 54.390625 8.296875 \nL 54.390625 0 \nL 12.40625 0 \nz\n\" id=\"DejaVuSans-49\"/>\n       </defs>\n       <use xlink:href=\"#DejaVuSans-8722\"/>\n       <use x=\"83.789062\" xlink:href=\"#DejaVuSans-49\"/>\n       <use x=\"147.412109\" xlink:href=\"#DejaVuSans-48\"/>\n      </g>\n     </g>\n    </g>\n    <g id=\"ytick_2\">\n     <g id=\"line2d_13\">\n      <path clip-path=\"url(#p548e6db642)\" d=\"M 35.304688 178.659605 \nL 370.104688 178.659605 \n\" style=\"fill:none;stroke:#b0b0b0;stroke-linecap:square;stroke-width:0.8;\"/>\n     </g>\n     <g id=\"line2d_14\">\n      <g>\n       <use style=\"stroke:#000000;stroke-width:0.8;\" x=\"35.304688\" xlink:href=\"#mb0b921d2ff\" y=\"178.659605\"/>\n      </g>\n     </g>\n     <g id=\"text_7\">\n      <!-- −5 -->\n      <g transform=\"translate(13.5625 182.458823)scale(0.1 -0.1)\">\n       <defs>\n        <path d=\"M 10.796875 72.90625 \nL 49.515625 72.90625 \nL 49.515625 64.59375 \nL 19.828125 64.59375 \nL 19.828125 46.734375 \nQ 21.96875 47.46875 24.109375 47.828125 \nQ 26.265625 48.1875 28.421875 48.1875 \nQ 40.625 48.1875 47.75 41.5 \nQ 54.890625 34.8125 54.890625 23.390625 \nQ 54.890625 11.625 47.5625 5.09375 \nQ 40.234375 -1.421875 26.90625 -1.421875 \nQ 22.3125 -1.421875 17.546875 -0.640625 \nQ 12.796875 0.140625 7.71875 1.703125 \nL 7.71875 11.625 \nQ 12.109375 9.234375 16.796875 8.0625 \nQ 21.484375 6.890625 26.703125 6.890625 \nQ 35.15625 6.890625 40.078125 11.328125 \nQ 45.015625 15.765625 45.015625 23.390625 \nQ 45.015625 31 40.078125 35.4375 \nQ 35.15625 39.890625 26.703125 39.890625 \nQ 22.75 39.890625 18.8125 39.015625 \nQ 14.890625 38.140625 10.796875 36.28125 \nz\n\" id=\"DejaVuSans-53\"/>\n       </defs>\n       <use xlink:href=\"#DejaVuSans-8722\"/>\n       <use x=\"83.789062\" xlink:href=\"#DejaVuSans-53\"/>\n      </g>\n     </g>\n    </g>\n    <g id=\"ytick_3\">\n     <g id=\"line2d_15\">\n      <path clip-path=\"url(#p548e6db642)\" d=\"M 35.304688 144.281739 \nL 370.104688 144.281739 \n\" style=\"fill:none;stroke:#b0b0b0;stroke-linecap:square;stroke-width:0.8;\"/>\n     </g>\n     <g id=\"line2d_16\">\n      <g>\n       <use style=\"stroke:#000000;stroke-width:0.8;\" x=\"35.304688\" xlink:href=\"#mb0b921d2ff\" y=\"144.281739\"/>\n      </g>\n     </g>\n     <g id=\"text_8\">\n      <!-- 0 -->\n      <g transform=\"translate(21.942188 148.080958)scale(0.1 -0.1)\">\n       <use xlink:href=\"#DejaVuSans-48\"/>\n      </g>\n     </g>\n    </g>\n    <g id=\"ytick_4\">\n     <g id=\"line2d_17\">\n      <path clip-path=\"url(#p548e6db642)\" d=\"M 35.304688 109.903874 \nL 370.104688 109.903874 \n\" style=\"fill:none;stroke:#b0b0b0;stroke-linecap:square;stroke-width:0.8;\"/>\n     </g>\n     <g id=\"line2d_18\">\n      <g>\n       <use style=\"stroke:#000000;stroke-width:0.8;\" x=\"35.304688\" xlink:href=\"#mb0b921d2ff\" y=\"109.903874\"/>\n      </g>\n     </g>\n     <g id=\"text_9\">\n      <!-- 5 -->\n      <g transform=\"translate(21.942188 113.703092)scale(0.1 -0.1)\">\n       <use xlink:href=\"#DejaVuSans-53\"/>\n      </g>\n     </g>\n    </g>\n    <g id=\"ytick_5\">\n     <g id=\"line2d_19\">\n      <path clip-path=\"url(#p548e6db642)\" d=\"M 35.304688 75.526008 \nL 370.104688 75.526008 \n\" style=\"fill:none;stroke:#b0b0b0;stroke-linecap:square;stroke-width:0.8;\"/>\n     </g>\n     <g id=\"line2d_20\">\n      <g>\n       <use style=\"stroke:#000000;stroke-width:0.8;\" x=\"35.304688\" xlink:href=\"#mb0b921d2ff\" y=\"75.526008\"/>\n      </g>\n     </g>\n     <g id=\"text_10\">\n      <!-- 10 -->\n      <g transform=\"translate(15.579688 79.325227)scale(0.1 -0.1)\">\n       <use xlink:href=\"#DejaVuSans-49\"/>\n       <use x=\"63.623047\" xlink:href=\"#DejaVuSans-48\"/>\n      </g>\n     </g>\n    </g>\n    <g id=\"ytick_6\">\n     <g id=\"line2d_21\">\n      <path clip-path=\"url(#p548e6db642)\" d=\"M 35.304688 41.148142 \nL 370.104688 41.148142 \n\" style=\"fill:none;stroke:#b0b0b0;stroke-linecap:square;stroke-width:0.8;\"/>\n     </g>\n     <g id=\"line2d_22\">\n      <g>\n       <use style=\"stroke:#000000;stroke-width:0.8;\" x=\"35.304688\" xlink:href=\"#mb0b921d2ff\" y=\"41.148142\"/>\n      </g>\n     </g>\n     <g id=\"text_11\">\n      <!-- 15 -->\n      <g transform=\"translate(15.579688 44.947361)scale(0.1 -0.1)\">\n       <use xlink:href=\"#DejaVuSans-49\"/>\n       <use x=\"63.623047\" xlink:href=\"#DejaVuSans-53\"/>\n      </g>\n     </g>\n    </g>\n   </g>\n   <g id=\"line2d_23\">\n    <path clip-path=\"url(#p548e6db642)\" d=\"M 50.522869 190.691858 \nL 53.597249 190.691858 \nL 56.67163 190.691858 \nL 59.74601 190.691858 \nL 62.82039 190.691858 \nL 65.89477 190.691858 \nL 68.96915 190.691858 \nL 72.04353 190.691858 \nL 75.117911 190.691858 \nL 78.192291 190.691858 \nL 81.266671 190.691858 \nL 84.341051 190.691858 \nL 87.415431 190.691858 \nL 90.489811 190.691858 \nL 93.564192 190.691858 \nL 96.638572 190.691858 \nL 99.712952 190.691858 \nL 102.787332 190.691858 \nL 105.861712 190.691858 \nL 108.936092 190.691858 \nL 112.010473 190.691858 \nL 115.084853 190.691858 \nL 118.159233 190.691858 \nL 121.233613 190.691858 \nL 124.307993 190.691858 \nL 127.382373 190.691858 \nL 130.456754 190.691858 \nL 133.531134 190.691858 \nL 136.605514 190.691858 \nL 139.679894 190.691858 \nL 142.754274 190.691858 \nL 145.828654 190.691858 \nL 148.903035 190.691858 \nL 151.977415 190.691858 \nL 155.051795 190.691858 \nL 158.126175 190.691858 \nL 161.200555 190.691858 \nL 164.274935 190.691858 \nL 167.349316 190.691858 \nL 170.423696 190.691858 \nL 173.498076 190.691858 \nL 176.572456 190.691858 \nL 179.646836 190.691858 \nL 182.721216 190.691858 \nL 185.795597 190.691858 \nL 188.869977 190.691858 \nL 191.944357 190.691858 \nL 195.018737 190.691858 \nL 198.093117 190.691858 \nL 201.167497 190.691858 \nL 204.241878 190.691858 \nL 207.316258 190.691858 \nL 210.390638 190.691858 \nL 213.465018 190.691858 \nL 216.539398 190.691858 \nL 219.613778 190.691858 \nL 222.688159 190.691858 \nL 225.762539 190.691858 \nL 228.836919 190.691858 \nL 231.911299 190.691858 \nL 234.985679 190.691858 \nL 238.060059 190.691858 \nL 241.13444 190.691858 \nL 244.20882 190.691858 \nL 247.2832 190.691858 \nL 250.35758 190.691858 \nL 253.43196 190.691858 \nL 256.50634 190.691858 \nL 259.580721 190.691858 \nL 262.655101 190.691858 \nL 265.729481 190.691858 \nL 268.803861 190.691858 \nL 271.878241 190.691858 \nL 274.952621 190.691858 \nL 278.027002 190.691858 \nL 281.101382 190.691858 \nL 284.175762 190.691858 \nL 287.250142 190.691858 \nL 290.324522 190.691858 \nL 293.398902 190.691858 \nL 296.473283 190.691858 \nL 299.547663 190.691858 \nL 302.622043 190.691858 \nL 305.696423 190.691858 \nL 308.770803 190.691858 \nL 311.845183 190.691858 \nL 314.919564 190.691858 \nL 317.993944 190.691858 \nL 321.068324 190.691858 \nL 324.142704 190.691858 \nL 327.217084 190.691858 \nL 330.291464 190.691858 \nL 333.365845 190.691858 \nL 336.440225 190.691858 \nL 339.514605 190.691858 \nL 342.588985 190.691858 \nL 345.663365 190.691858 \nL 348.737745 190.691858 \nL 351.812126 190.691858 \nL 354.886506 190.691858 \n\" style=\"fill:none;stroke:#1f77b4;stroke-linecap:square;stroke-width:1.5;\"/>\n   </g>\n   <g id=\"line2d_24\">\n    <path clip-path=\"url(#p548e6db642)\" d=\"M 50.522869 154.595099 \nL 53.597249 154.595099 \nL 56.67163 154.595099 \nL 59.74601 154.595099 \nL 62.82039 154.595099 \nL 65.89477 154.595099 \nL 68.96915 154.595099 \nL 72.04353 154.595099 \nL 75.117911 154.595099 \nL 78.192291 154.595099 \nL 81.266671 154.595099 \nL 84.341051 154.595099 \nL 87.415431 154.595099 \nL 90.489811 154.595099 \nL 93.564192 154.595099 \nL 96.638572 154.595099 \nL 99.712952 154.595099 \nL 102.787332 154.595099 \nL 105.861712 154.595099 \nL 108.936092 154.595099 \nL 112.010473 154.595099 \nL 115.084853 154.595099 \nL 118.159233 154.595099 \nL 121.233613 154.595099 \nL 124.307993 154.595099 \nL 127.382373 154.595099 \nL 130.456754 154.595099 \nL 133.531134 154.595099 \nL 136.605514 154.595099 \nL 139.679894 154.595099 \nL 142.754274 154.595099 \nL 145.828654 154.595099 \nL 148.903035 154.595099 \nL 151.977415 154.595099 \nL 155.051795 154.595099 \nL 158.126175 154.595099 \nL 161.200555 154.595099 \nL 164.274935 154.595099 \nL 167.349316 154.595099 \nL 170.423696 154.595099 \nL 173.498076 154.595099 \nL 176.572456 154.595099 \nL 179.646836 154.595099 \nL 182.721216 154.595099 \nL 185.795597 154.595099 \nL 188.869977 154.595099 \nL 191.944357 154.595099 \nL 195.018737 154.595099 \nL 198.093117 154.595099 \nL 201.167497 154.595099 \nL 204.241878 154.595099 \nL 207.316258 154.595099 \nL 210.390638 154.595099 \nL 213.465018 154.595099 \nL 216.539398 154.595099 \nL 219.613778 154.595099 \nL 222.688159 154.595099 \nL 225.762539 154.595099 \nL 228.836919 154.595099 \nL 231.911299 154.595099 \nL 234.985679 154.595099 \nL 238.060059 154.595099 \nL 241.13444 154.595099 \nL 244.20882 154.595099 \nL 247.2832 154.595099 \nL 250.35758 154.595099 \nL 253.43196 154.595099 \nL 256.50634 154.595099 \nL 259.580721 154.595099 \nL 262.655101 154.595099 \nL 265.729481 154.595099 \nL 268.803861 154.595099 \nL 271.878241 154.595099 \nL 274.952621 154.595099 \nL 278.027002 154.595099 \nL 281.101382 154.595099 \nL 284.175762 154.595099 \nL 287.250142 154.595099 \nL 290.324522 154.595099 \nL 293.398902 154.595099 \nL 296.473283 154.595099 \nL 299.547663 154.595099 \nL 302.622043 154.595099 \nL 305.696423 154.595099 \nL 308.770803 154.595099 \nL 311.845183 154.595099 \nL 314.919564 154.595099 \nL 317.993944 154.595099 \nL 321.068324 154.595099 \nL 324.142704 154.595099 \nL 327.217084 154.595099 \nL 330.291464 154.595099 \nL 333.365845 154.595099 \nL 336.440225 154.595099 \nL 339.514605 154.595099 \nL 342.588985 154.595099 \nL 345.663365 154.595099 \nL 348.737745 154.595099 \nL 351.812126 154.595099 \nL 354.886506 154.595099 \n\" style=\"fill:none;stroke:#ff7f0e;stroke-linecap:square;stroke-width:1.5;\"/>\n   </g>\n   <g id=\"line2d_25\">\n    <path clip-path=\"url(#p548e6db642)\" d=\"M 50.522869 187.254071 \nL 53.597249 185.535178 \nL 56.67163 183.816285 \nL 59.74601 182.097391 \nL 62.82039 180.378498 \nL 65.89477 178.659605 \nL 68.96915 176.940711 \nL 72.04353 175.221818 \nL 75.117911 173.502925 \nL 78.192291 171.784032 \nL 81.266671 170.065138 \nL 84.341051 168.346245 \nL 87.415431 166.627352 \nL 90.489811 164.908458 \nL 93.564192 163.189565 \nL 96.638572 161.470672 \nL 99.712952 159.751779 \nL 102.787332 158.032885 \nL 105.861712 156.313992 \nL 108.936092 154.595099 \nL 112.010473 152.876206 \nL 115.084853 151.157312 \nL 118.159233 149.438419 \nL 121.233613 147.719526 \nL 124.307993 146.000632 \nL 127.382373 144.281739 \nL 130.456754 142.562846 \nL 133.531134 140.843953 \nL 136.605514 139.125059 \nL 139.679894 137.406166 \nL 142.754274 135.687273 \nL 145.828654 133.968379 \nL 148.903035 132.249486 \nL 151.977415 130.530593 \nL 155.051795 128.8117 \nL 158.126175 127.092806 \nL 161.200555 125.373913 \nL 164.274935 123.65502 \nL 167.349316 121.936126 \nL 170.423696 120.217233 \nL 173.498076 118.49834 \nL 176.572456 116.779447 \nL 179.646836 115.060553 \nL 182.721216 113.34166 \nL 185.795597 111.622767 \nL 188.869977 109.903874 \nL 191.944357 108.18498 \nL 195.018737 106.466087 \nL 198.093117 104.747194 \nL 201.167497 103.0283 \nL 204.241878 101.309407 \nL 207.316258 99.590514 \nL 210.390638 97.871621 \nL 213.465018 96.152727 \nL 216.539398 94.433834 \nL 219.613778 92.714941 \nL 222.688159 90.996047 \nL 225.762539 89.277154 \nL 228.836919 87.558261 \nL 231.911299 85.839368 \nL 234.985679 84.120474 \nL 238.060059 82.401581 \nL 241.13444 80.682688 \nL 244.20882 78.963794 \nL 247.2832 77.244901 \nL 250.35758 75.526008 \nL 253.43196 73.807115 \nL 256.50634 72.088221 \nL 259.580721 70.369328 \nL 262.655101 68.650435 \nL 265.729481 66.931542 \nL 268.803861 65.212648 \nL 271.878241 63.493755 \nL 274.952621 61.774862 \nL 278.027002 60.055968 \nL 281.101382 58.337075 \nL 284.175762 56.618182 \nL 287.250142 54.899289 \nL 290.324522 53.180395 \nL 293.398902 51.461502 \nL 296.473283 49.742609 \nL 299.547663 48.023715 \nL 302.622043 46.304822 \nL 305.696423 44.585929 \nL 308.770803 42.867036 \nL 311.845183 41.148142 \nL 314.919564 39.429249 \nL 317.993944 37.710356 \nL 321.068324 35.991462 \nL 324.142704 34.272569 \nL 327.217084 32.553676 \nL 330.291464 30.834783 \nL 333.365845 29.115889 \nL 336.440225 27.396996 \nL 339.514605 25.678103 \nL 342.588985 23.959209 \nL 345.663365 22.240316 \nL 348.737745 20.521423 \nL 351.812126 18.80253 \nL 354.886506 17.083636 \n\" style=\"fill:none;stroke:#2ca02c;stroke-linecap:square;stroke-width:1.5;\"/>\n   </g>\n   <g id=\"line2d_26\">\n    <path clip-path=\"url(#p548e6db642)\" d=\"M 50.522869 44.585929 \nL 53.597249 46.304822 \nL 56.67163 48.023715 \nL 59.74601 49.742609 \nL 62.82039 51.461502 \nL 65.89477 53.180395 \nL 68.96915 54.899289 \nL 72.04353 56.618182 \nL 75.117911 58.337075 \nL 78.192291 60.055968 \nL 81.266671 61.774862 \nL 84.341051 63.493755 \nL 87.415431 65.212648 \nL 90.489811 66.931542 \nL 93.564192 68.650435 \nL 96.638572 70.369328 \nL 99.712952 72.088221 \nL 102.787332 73.807115 \nL 105.861712 75.526008 \nL 108.936092 77.244901 \nL 112.010473 78.963794 \nL 115.084853 80.682688 \nL 118.159233 82.401581 \nL 121.233613 84.120474 \nL 124.307993 85.839368 \nL 127.382373 87.558261 \nL 130.456754 89.277154 \nL 133.531134 90.996047 \nL 136.605514 92.714941 \nL 139.679894 94.433834 \nL 142.754274 96.152727 \nL 145.828654 97.871621 \nL 148.903035 99.590514 \nL 151.977415 101.309407 \nL 155.051795 103.0283 \nL 158.126175 104.747194 \nL 161.200555 106.466087 \nL 164.274935 108.18498 \nL 167.349316 109.903874 \nL 170.423696 111.622767 \nL 173.498076 113.34166 \nL 176.572456 115.060553 \nL 179.646836 116.779447 \nL 182.721216 118.49834 \nL 185.795597 120.217233 \nL 188.869977 121.936126 \nL 191.944357 123.65502 \nL 195.018737 125.373913 \nL 198.093117 127.092806 \nL 201.167497 128.8117 \nL 204.241878 130.530593 \nL 207.316258 132.249486 \nL 210.390638 133.968379 \nL 213.465018 135.687273 \nL 216.539398 137.406166 \nL 219.613778 139.125059 \nL 222.688159 140.843953 \nL 225.762539 142.562846 \nL 228.836919 144.281739 \nL 231.911299 146.000632 \nL 234.985679 147.719526 \nL 238.060059 149.438419 \nL 241.13444 151.157312 \nL 244.20882 152.876206 \nL 247.2832 154.595099 \nL 250.35758 156.313992 \nL 253.43196 158.032885 \nL 256.50634 159.751779 \nL 259.580721 161.470672 \nL 262.655101 163.189565 \nL 265.729481 164.908458 \nL 268.803861 166.627352 \nL 271.878241 168.346245 \nL 274.952621 170.065138 \nL 278.027002 171.784032 \nL 281.101382 173.502925 \nL 284.175762 175.221818 \nL 287.250142 176.940711 \nL 290.324522 178.659605 \nL 293.398902 180.378498 \nL 296.473283 182.097391 \nL 299.547663 183.816285 \nL 302.622043 185.535178 \nL 305.696423 187.254071 \nL 308.770803 188.972964 \nL 311.845183 190.691858 \nL 314.919564 192.410751 \nL 317.993944 194.129644 \nL 321.068324 195.848538 \nL 324.142704 197.567431 \nL 327.217084 199.286324 \nL 330.291464 201.005217 \nL 333.365845 202.724111 \nL 336.440225 204.443004 \nL 339.514605 206.161897 \nL 342.588985 207.880791 \nL 345.663365 209.599684 \nL 348.737745 211.318577 \nL 351.812126 213.03747 \nL 354.886506 214.756364 \n\" style=\"fill:none;stroke:#d62728;stroke-linecap:square;stroke-width:1.5;\"/>\n   </g>\n   <g id=\"patch_3\">\n    <path d=\"M 35.304688 224.64 \nL 35.304688 7.2 \n\" style=\"fill:none;stroke:#000000;stroke-linecap:square;stroke-linejoin:miter;stroke-width:0.8;\"/>\n   </g>\n   <g id=\"patch_4\">\n    <path d=\"M 370.104688 224.64 \nL 370.104688 7.2 \n\" style=\"fill:none;stroke:#000000;stroke-linecap:square;stroke-linejoin:miter;stroke-width:0.8;\"/>\n   </g>\n   <g id=\"patch_5\">\n    <path d=\"M 35.304688 224.64 \nL 370.104688 224.64 \n\" style=\"fill:none;stroke:#000000;stroke-linecap:square;stroke-linejoin:miter;stroke-width:0.8;\"/>\n   </g>\n   <g id=\"patch_6\">\n    <path d=\"M 35.304688 7.2 \nL 370.104688 7.2 \n\" style=\"fill:none;stroke:#000000;stroke-linecap:square;stroke-linejoin:miter;stroke-width:0.8;\"/>\n   </g>\n   <g id=\"legend_1\">\n    <g id=\"patch_7\">\n     <path d=\"M 293.796875 146.77625 \nL 363.104688 146.77625 \nQ 365.104688 146.77625 365.104688 144.77625 \nL 365.104688 87.06375 \nQ 365.104688 85.06375 363.104688 85.06375 \nL 293.796875 85.06375 \nQ 291.796875 85.06375 291.796875 87.06375 \nL 291.796875 144.77625 \nQ 291.796875 146.77625 293.796875 146.77625 \nz\n\" style=\"fill:#ffffff;opacity:0.8;stroke:#cccccc;stroke-linejoin:miter;\"/>\n    </g>\n    <g id=\"line2d_27\">\n     <path d=\"M 295.796875 93.162187 \nL 315.796875 93.162187 \n\" style=\"fill:none;stroke:#1f77b4;stroke-linecap:square;stroke-width:1.5;\"/>\n    </g>\n    <g id=\"line2d_28\"/>\n    <g id=\"text_12\">\n     <!-- Team A -->\n     <g transform=\"translate(323.796875 96.662187)scale(0.1 -0.1)\">\n      <defs>\n       <path d=\"M -0.296875 72.90625 \nL 61.375 72.90625 \nL 61.375 64.59375 \nL 35.5 64.59375 \nL 35.5 0 \nL 25.59375 0 \nL 25.59375 64.59375 \nL -0.296875 64.59375 \nz\n\" id=\"DejaVuSans-84\"/>\n       <path d=\"M 56.203125 29.59375 \nL 56.203125 25.203125 \nL 14.890625 25.203125 \nQ 15.484375 15.921875 20.484375 11.0625 \nQ 25.484375 6.203125 34.421875 6.203125 \nQ 39.59375 6.203125 44.453125 7.46875 \nQ 49.3125 8.734375 54.109375 11.28125 \nL 54.109375 2.78125 \nQ 49.265625 0.734375 44.1875 -0.34375 \nQ 39.109375 -1.421875 33.890625 -1.421875 \nQ 20.796875 -1.421875 13.15625 6.1875 \nQ 5.515625 13.8125 5.515625 26.8125 \nQ 5.515625 40.234375 12.765625 48.109375 \nQ 20.015625 56 32.328125 56 \nQ 43.359375 56 49.78125 48.890625 \nQ 56.203125 41.796875 56.203125 29.59375 \nz\nM 47.21875 32.234375 \nQ 47.125 39.59375 43.09375 43.984375 \nQ 39.0625 48.390625 32.421875 48.390625 \nQ 24.90625 48.390625 20.390625 44.140625 \nQ 15.875 39.890625 15.1875 32.171875 \nz\n\" id=\"DejaVuSans-101\"/>\n       <path d=\"M 34.28125 27.484375 \nQ 23.390625 27.484375 19.1875 25 \nQ 14.984375 22.515625 14.984375 16.5 \nQ 14.984375 11.71875 18.140625 8.90625 \nQ 21.296875 6.109375 26.703125 6.109375 \nQ 34.1875 6.109375 38.703125 11.40625 \nQ 43.21875 16.703125 43.21875 25.484375 \nL 43.21875 27.484375 \nz\nM 52.203125 31.203125 \nL 52.203125 0 \nL 43.21875 0 \nL 43.21875 8.296875 \nQ 40.140625 3.328125 35.546875 0.953125 \nQ 30.953125 -1.421875 24.3125 -1.421875 \nQ 15.921875 -1.421875 10.953125 3.296875 \nQ 6 8.015625 6 15.921875 \nQ 6 25.140625 12.171875 29.828125 \nQ 18.359375 34.515625 30.609375 34.515625 \nL 43.21875 34.515625 \nL 43.21875 35.40625 \nQ 43.21875 41.609375 39.140625 45 \nQ 35.0625 48.390625 27.6875 48.390625 \nQ 23 48.390625 18.546875 47.265625 \nQ 14.109375 46.140625 10.015625 43.890625 \nL 10.015625 52.203125 \nQ 14.9375 54.109375 19.578125 55.046875 \nQ 24.21875 56 28.609375 56 \nQ 40.484375 56 46.34375 49.84375 \nQ 52.203125 43.703125 52.203125 31.203125 \nz\n\" id=\"DejaVuSans-97\"/>\n       <path d=\"M 52 44.1875 \nQ 55.375 50.25 60.0625 53.125 \nQ 64.75 56 71.09375 56 \nQ 79.640625 56 84.28125 50.015625 \nQ 88.921875 44.046875 88.921875 33.015625 \nL 88.921875 0 \nL 79.890625 0 \nL 79.890625 32.71875 \nQ 79.890625 40.578125 77.09375 44.375 \nQ 74.3125 48.1875 68.609375 48.1875 \nQ 61.625 48.1875 57.5625 43.546875 \nQ 53.515625 38.921875 53.515625 30.90625 \nL 53.515625 0 \nL 44.484375 0 \nL 44.484375 32.71875 \nQ 44.484375 40.625 41.703125 44.40625 \nQ 38.921875 48.1875 33.109375 48.1875 \nQ 26.21875 48.1875 22.15625 43.53125 \nQ 18.109375 38.875 18.109375 30.90625 \nL 18.109375 0 \nL 9.078125 0 \nL 9.078125 54.6875 \nL 18.109375 54.6875 \nL 18.109375 46.1875 \nQ 21.1875 51.21875 25.484375 53.609375 \nQ 29.78125 56 35.6875 56 \nQ 41.65625 56 45.828125 52.96875 \nQ 50 49.953125 52 44.1875 \nz\n\" id=\"DejaVuSans-109\"/>\n       <path id=\"DejaVuSans-32\"/>\n       <path d=\"M 34.1875 63.1875 \nL 20.796875 26.90625 \nL 47.609375 26.90625 \nz\nM 28.609375 72.90625 \nL 39.796875 72.90625 \nL 67.578125 0 \nL 57.328125 0 \nL 50.6875 18.703125 \nL 17.828125 18.703125 \nL 11.1875 0 \nL 0.78125 0 \nz\n\" id=\"DejaVuSans-65\"/>\n      </defs>\n      <use xlink:href=\"#DejaVuSans-84\"/>\n      <use x=\"44.083984\" xlink:href=\"#DejaVuSans-101\"/>\n      <use x=\"105.607422\" xlink:href=\"#DejaVuSans-97\"/>\n      <use x=\"166.886719\" xlink:href=\"#DejaVuSans-109\"/>\n      <use x=\"264.298828\" xlink:href=\"#DejaVuSans-32\"/>\n      <use x=\"296.085938\" xlink:href=\"#DejaVuSans-65\"/>\n     </g>\n    </g>\n    <g id=\"line2d_29\">\n     <path d=\"M 295.796875 107.840312 \nL 315.796875 107.840312 \n\" style=\"fill:none;stroke:#ff7f0e;stroke-linecap:square;stroke-width:1.5;\"/>\n    </g>\n    <g id=\"line2d_30\"/>\n    <g id=\"text_13\">\n     <!-- Team B -->\n     <g transform=\"translate(323.796875 111.340312)scale(0.1 -0.1)\">\n      <defs>\n       <path d=\"M 19.671875 34.8125 \nL 19.671875 8.109375 \nL 35.5 8.109375 \nQ 43.453125 8.109375 47.28125 11.40625 \nQ 51.125 14.703125 51.125 21.484375 \nQ 51.125 28.328125 47.28125 31.5625 \nQ 43.453125 34.8125 35.5 34.8125 \nz\nM 19.671875 64.796875 \nL 19.671875 42.828125 \nL 34.28125 42.828125 \nQ 41.5 42.828125 45.03125 45.53125 \nQ 48.578125 48.25 48.578125 53.8125 \nQ 48.578125 59.328125 45.03125 62.0625 \nQ 41.5 64.796875 34.28125 64.796875 \nz\nM 9.8125 72.90625 \nL 35.015625 72.90625 \nQ 46.296875 72.90625 52.390625 68.21875 \nQ 58.5 63.53125 58.5 54.890625 \nQ 58.5 48.1875 55.375 44.234375 \nQ 52.25 40.28125 46.1875 39.3125 \nQ 53.46875 37.75 57.5 32.78125 \nQ 61.53125 27.828125 61.53125 20.40625 \nQ 61.53125 10.640625 54.890625 5.3125 \nQ 48.25 0 35.984375 0 \nL 9.8125 0 \nz\n\" id=\"DejaVuSans-66\"/>\n      </defs>\n      <use xlink:href=\"#DejaVuSans-84\"/>\n      <use x=\"44.083984\" xlink:href=\"#DejaVuSans-101\"/>\n      <use x=\"105.607422\" xlink:href=\"#DejaVuSans-97\"/>\n      <use x=\"166.886719\" xlink:href=\"#DejaVuSans-109\"/>\n      <use x=\"264.298828\" xlink:href=\"#DejaVuSans-32\"/>\n      <use x=\"296.085938\" xlink:href=\"#DejaVuSans-66\"/>\n     </g>\n    </g>\n    <g id=\"line2d_31\">\n     <path d=\"M 295.796875 122.518437 \nL 315.796875 122.518437 \n\" style=\"fill:none;stroke:#2ca02c;stroke-linecap:square;stroke-width:1.5;\"/>\n    </g>\n    <g id=\"line2d_32\"/>\n    <g id=\"text_14\">\n     <!-- Team C -->\n     <g transform=\"translate(323.796875 126.018437)scale(0.1 -0.1)\">\n      <defs>\n       <path d=\"M 64.40625 67.28125 \nL 64.40625 56.890625 \nQ 59.421875 61.53125 53.78125 63.8125 \nQ 48.140625 66.109375 41.796875 66.109375 \nQ 29.296875 66.109375 22.65625 58.46875 \nQ 16.015625 50.828125 16.015625 36.375 \nQ 16.015625 21.96875 22.65625 14.328125 \nQ 29.296875 6.6875 41.796875 6.6875 \nQ 48.140625 6.6875 53.78125 8.984375 \nQ 59.421875 11.28125 64.40625 15.921875 \nL 64.40625 5.609375 \nQ 59.234375 2.09375 53.4375 0.328125 \nQ 47.65625 -1.421875 41.21875 -1.421875 \nQ 24.65625 -1.421875 15.125 8.703125 \nQ 5.609375 18.84375 5.609375 36.375 \nQ 5.609375 53.953125 15.125 64.078125 \nQ 24.65625 74.21875 41.21875 74.21875 \nQ 47.75 74.21875 53.53125 72.484375 \nQ 59.328125 70.75 64.40625 67.28125 \nz\n\" id=\"DejaVuSans-67\"/>\n      </defs>\n      <use xlink:href=\"#DejaVuSans-84\"/>\n      <use x=\"44.083984\" xlink:href=\"#DejaVuSans-101\"/>\n      <use x=\"105.607422\" xlink:href=\"#DejaVuSans-97\"/>\n      <use x=\"166.886719\" xlink:href=\"#DejaVuSans-109\"/>\n      <use x=\"264.298828\" xlink:href=\"#DejaVuSans-32\"/>\n      <use x=\"296.085938\" xlink:href=\"#DejaVuSans-67\"/>\n     </g>\n    </g>\n    <g id=\"line2d_33\">\n     <path d=\"M 295.796875 137.196562 \nL 315.796875 137.196562 \n\" style=\"fill:none;stroke:#d62728;stroke-linecap:square;stroke-width:1.5;\"/>\n    </g>\n    <g id=\"line2d_34\"/>\n    <g id=\"text_15\">\n     <!-- Team D -->\n     <g transform=\"translate(323.796875 140.696562)scale(0.1 -0.1)\">\n      <defs>\n       <path d=\"M 19.671875 64.796875 \nL 19.671875 8.109375 \nL 31.59375 8.109375 \nQ 46.6875 8.109375 53.6875 14.9375 \nQ 60.6875 21.78125 60.6875 36.53125 \nQ 60.6875 51.171875 53.6875 57.984375 \nQ 46.6875 64.796875 31.59375 64.796875 \nz\nM 9.8125 72.90625 \nL 30.078125 72.90625 \nQ 51.265625 72.90625 61.171875 64.09375 \nQ 71.09375 55.28125 71.09375 36.53125 \nQ 71.09375 17.671875 61.125 8.828125 \nQ 51.171875 0 30.078125 0 \nL 9.8125 0 \nz\n\" id=\"DejaVuSans-68\"/>\n      </defs>\n      <use xlink:href=\"#DejaVuSans-84\"/>\n      <use x=\"44.083984\" xlink:href=\"#DejaVuSans-101\"/>\n      <use x=\"105.607422\" xlink:href=\"#DejaVuSans-97\"/>\n      <use x=\"166.886719\" xlink:href=\"#DejaVuSans-109\"/>\n      <use x=\"264.298828\" xlink:href=\"#DejaVuSans-32\"/>\n      <use x=\"296.085938\" xlink:href=\"#DejaVuSans-68\"/>\n     </g>\n    </g>\n   </g>\n  </g>\n </g>\n <defs>\n  <clipPath id=\"p548e6db642\">\n   <rect height=\"217.44\" width=\"334.8\" x=\"35.304688\" y=\"7.2\"/>\n  </clipPath>\n </defs>\n</svg>\n",
      "image/png": "[encoded data removed]"
     },
     "metadata": {
      "needs_background": "light"
     }
    }
   ],
   "source": [
    "all_rankings = np.empty((0,4))\n",
    "for i in range(-50, 50):\n",
    "    scores2[(\"C\", \"D\")] = i\n",
    "    M3, q3, list = make_massey(scores2)\n",
    "    r3, j, k, l = np.linalg.lstsq(M3, q3, rcond=None)\n",
    "    all_rankings = np.append(all_rankings, np.array([r3]), axis=0)\n",
    "\n",
    "all_rankings = all_rankings.round(decimals=5)\n",
    "\n",
    "teamAranks = all_rankings[:,0]\n",
    "teamBranks = all_rankings[:,1]\n",
    "teamCranks = all_rankings[:,2]\n",
    "teamDranks = all_rankings[:,3]\n",
    "\n",
    "plt.figure()\n",
    "plt.plot(range(-50, 50), teamAranks, label=\"Team A\")\n",
    "plt.plot(range(-50, 50), teamBranks, label=\"Team B\")\n",
    "plt.plot(range(-50, 50), teamCranks, label=\"Team C\")\n",
    "plt.plot(range(-50, 50), teamDranks, label=\"Team D\")\n",
    "plt.legend()\n",
    "plt.grid()\n",
    "plt.show()\n"
   ]
  },
  {
   "source": [
    "This visualization makes it easy to see the 5 different rankings possible from a point spread of -50 to 50. I will find the rankings for a point differential of -40, -20, 0, 20, and 40. Looking at the graph, it is easy to see that these are in different ranked zones."
   ],
   "cell_type": "markdown",
   "metadata": {}
  },
  {
   "cell_type": "code",
   "execution_count": 10,
   "metadata": {},
   "outputs": [
    {
     "output_type": "stream",
     "name": "stdout",
     "text": [
      "Ranks at spread of -40:\n1. D has rank =  12.0\n2. B has rank =  -1.5\n3. C has rank =  -3.75\n4. A has rank =  -6.75\n\nRanks at spread of -20:\n1. D has rank =  7.0\n2. C has rank =  1.25\n3. B has rank =  -1.5\n4. A has rank =  -6.75\n\nRanks at spread of 0:\n1. C has rank =  6.25\n2. D has rank =  2.0\n3. B has rank =  -1.5\n4. A has rank =  -6.75\n\nRanks at spread of 20:\n1. C has rank =  11.25\n2. B has rank =  -1.5\n3. D has rank =  -3.0\n4. A has rank =  -6.75\n\nRanks at spread of 40:\n1. C has rank =  16.25\n2. B has rank =  -1.5\n3. A has rank =  -6.75\n4. D has rank =  -8.0\n\n"
     ]
    }
   ],
   "source": [
    "\n",
    "for z in range(-40, 60, 20):\n",
    "    scores[(\"C\", \"D\")] = z\n",
    "    print(\"Ranks at spread of\", str(z) + \":\")\n",
    "    M, q, team_list1 = make_massey(scores)\n",
    "    r, j, k, l = np.linalg.lstsq(M, q, rcond=None)\n",
    "    r = r.round(decimals=5)\n",
    "    print_ranks(r, team_list)\n",
    "    print()\n"
   ]
  }
 ]
}