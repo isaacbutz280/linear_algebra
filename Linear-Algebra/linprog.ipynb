{
 "metadata": {
  "orig_nbformat": 2,
  "kernelspec": {
   "name": "python385jvsc74a57bd031f2aee4e71d21fbe5cf8b01ff0e069b9275f58929596ceb00d14d90e3e16cd6",
   "display_name": "Python 3.8.5 64-bit"
  },
  "metadata": {
   "interpreter": {
    "hash": "31f2aee4e71d21fbe5cf8b01ff0e069b9275f58929596ceb00d14d90e3e16cd6"
   }
  }
 },
 "nbformat": 4,
 "nbformat_minor": 2,
 "cells": [
  {
   "cell_type": "code",
   "execution_count": 1,
   "metadata": {},
   "outputs": [],
   "source": [
    "import numpy as np\n",
    "from scipy import optimize as opt"
   ]
  },
  {
   "cell_type": "code",
   "execution_count": 2,
   "metadata": {},
   "outputs": [],
   "source": [
    "# The data entry \n",
    "foods = np.array([\"Ice Cream\", \"Corn\", \"Chili\", \"Pear\", \"Soybean\", \"Asparagus\", \"Eggplant\", \"Peanut Butter\",\n",
    "         \"Persimmon\", \"Broccoli\", \"Cabbage\", \"Green Peas\", \"Nuts\", \"KFC\", \"Taco\", \"Turkey\", \"Cottage Cheese\",\n",
    "         \"Cake\", \"Chicken\", \"Fish\", \"Chickpeas\", \"Beef\", \"Grapefruit\", \"Pancakes\", \"Oatmeal Cookie\"])\n",
    "\n",
    "costs = np.array([2.5, 0.6, 1.12, 0.4, 1., 0.58, 0.75, 0.62, 5., 0.76, 0.58, 0.57,\n",
    "         0.84, 1.36, 1.19, 0.36, 1.14, 1., 0.4, 1.14, 0.22, 1.14, 0.36, 0.58, 1.96])\n",
    "\n",
    "calories = np.array([249, 365, 157, 29, 122, 22, 33, 590, 70, 29, 25,\n",
    "             68, 619, 269, 189, 120, 72, 418, 176, 195, 378, 254, 37, 194, 406])\n",
    "\n",
    "nutrition = np.array([[0.05, 0.04, 0.04, 0.06, 0.12, 0.03, 0.15, 0.04, 0., 0.03, 0.01, 0.03, 0.05, 0.06, 0.73, 0.03, 0.13, 0.16],\n",
    "             [0.08, 0.34, 0.2, 0.28, 0.01, 0.32, 0.3, 0.02, 0.21, 0., 0.23, 0.48, 0., 0.17, 0., 0.32, 0.15, 0.],\n",
    "             [0.09, 0.18, 0.2, 0.24, 0.03, 0.04, 0.15, 0.25, 0.04, 0.08, 0.22, 0.25, 0., 0.22, 1.6, 0.03, 0.16, 0.52],\n",
    "             [0.02, 0.03, 0.01, 0., 0., 0.01, 0.01, 0., 0.01, 0.01, 0., 0.01, 0.01, 0., 0., 0.01, 0.01, 0.],\n",
    "             [0.14, 0.26, 0.11, 0.01, 0.07, 0.18, 0.23, 0.01, 0.31, 0., 0.07, 0.14, 0., 0.23, 0.01, 0.28, 0.09, 0.], \n",
    "             [0.07, 0.11, 0.05, 0.11, 0.02, 0.04, 0.08, 0.16, 0.07, 0.1, 0.07, 0.06, 0.05, 0.04, 1.12, 0.14, 0.11, 0.],\n",
    "             [0.04, 0.03, 0.01, 0., 0.01, 0.03, 0.02, 0.16, 0.05, 0.03, 0.04, 0.07, 0.02, 0.01, 0.04, 0.06, 0.02, 0.], \n",
    "             [0.22, 0.24, 0.25, 0.14, 0.04, 0.4, 0.45, 0.14, 0., 0.6, 0.86, 0.35, 0.12, 0.43, 0., 0.1, 0.08, 0.], \n",
    "             [0.05, 0.02, 0.01, 0.01, 0.01, 0.02, 0.02, 0., 0.15, 0.05, 0.01, 0.08, 0.01, 0.01, 1.81, 0.02, 0.02, 0.],\n",
    "             [0.07, 0.09, 0.03, 0.03, 0.04, 0.04, 0.08, 0.01, 0.11, 0.09, 0.03, 0.13, 0., 0.05, 1.26, 0.06, 0.09, 0.],\n",
    "             [0.05, 0.06, 0.02, 0.01, 0.04, 0.03, 0.04, 0.01, 0.07, 0.01, 0.01, 0.1, 0.02, 0.02, 0.11, 0.05, 0.03, 0.], \n",
    "             [0.03, 0.15, 0.06, 0.03, 0.02, 0.04, 0.1, 0.18, 0.09, 0.03, 0.06, 0.04, 0.05, 0.08, 0.96, 0.09, 0.04, 0.], \n",
    "             [0.15, 0.39, 0.31, 0.31, 0.06, 0.5, 0.73, 0., 1.69, 0.14, 0.03, 0.45, 0.06, 0.43, 0.04, 0.05, 0.1, 0.],\n",
    "             [0.07, 0.11, 0.13, 0.43, 0.06, 0.06, 0.33, 0.52, 0.07, 0.05, 0.35, 0.11, 0.12, 0.34, 0.06, 0.07, 0.2, 0.17], \n",
    "             [0.06, 0.2, 0.07, 0.23, 0.12, 0.06, 0.35, 0.41, 0.11, 0.02, 0.32, 0.08, 0., 0.24, 0.03, 0.13, 0.08, 0.05], \n",
    "             [0.11, 0.26, 0.17, 0.48, 0., 0.05, 0.23, 0.45, 0.01, 0., 0.28, 0.29, 0., 0.31, 0., 0.03, 0.09, 0.15], \n",
    "             [0.04, 0.02, 0.04, 0.17, 0.09, 0.03, 0.27, 0.25, 0.01, 0., 0.01, 0.01, 0.03, 0.18, 0.01, 0.02, 0.17, 0.19], \n",
    "             [0.04, 0.24, 0.07, 0.31, 0.05, 0.06, 0.15, 0.23, 0.2, 0., 0.1, 0.02, 0., 0.12, 0.12, 0.17, 0.18, 0.08],\n",
    "             [0.08, 0.16, 0.17, 0.53, 0.01, 0.06, 0.29, 0.05, 0.01, 0.01, 0.36, 0.34, 0.12, 0.44, 0.03, 0.07, 0.14, 0.18], \n",
    "             [0.12, 0.14, 0.05, 0.66, 0.08, 0.08, 0.33, 0.05, 0.02, 0., 0.14, 0.35, 0., 0.29, 0.12, 0.05, 0.15, 4.17], \n",
    "             [0.21, 0.54, 0.25, 0., 0.06, 0.2, 0.36, 0.02, 9.26, 0.05, 0.1, 0.41, 0.18, 0.37, 0.07, 0.4, 0.16, 0.], \n",
    "             [0.08, 0.24, 0.38, 0.27, 0.02, 0.04, 0.23, 0.04, 0., 0.01, 0.26, 0.25, 0.1, 0.31, 0.02, 0.04, 0.12, 0.89], \n",
    "             [0.04, 0.01, 0.01, 0., 0.01, 0.02, 0.02, 0., 0.01, 0., 0.01, 0.03, 0., 0.01, 0.29, 0.03, 0.02, 0.], \n",
    "             [0.05, 0.2, 0.04, 0.25, 0.13, 0.05, 0.48, 0.42, 0.12, 0., 0.11, 0.07, 0.03, 0.09, 0.04, 0.18, 0.17, 0.08],\n",
    "             [0.08, 0.3, 0., 0., 0.04, 0., 0., 0.23, 0., 0., 0.11, 0., 0., 0.09, 0.02, 0.23, 0.12, 0.]])\n",
    "WALLET = 20"
   ]
  },
  {
   "source": [
    "Problem 1: Food and Nutrition\n",
    "===\n",
    "\n",
    "For my foods, I will be picking from Chili, Pear, Peanut Butter, Broccoli, Cottage Cheese, Pancakes, and oatmeal cookies. My constraints are I need 100% (Aka 1) of each nutrient. I also can only have a max of 9 servings of each food. Lastly my budget is $20\n",
    "\n",
    "Part a:\n",
    "---\n",
    "\n",
    "I want to maximize my nutrition. So for m, I get a list that has rows with the nutrient, and the columns are the food. I need to multiply this by -1 because Python only solves the form A.x <= b. b will just be a list of -1's, because we want the nutrition to be > 1, or <= -1. I also need to invert my c. Python only solves minimizaiton, so to maximize I need to do -(min(-objective))"
   ],
   "cell_type": "markdown",
   "metadata": {}
  },
  {
   "cell_type": "code",
   "execution_count": 3,
   "metadata": {},
   "outputs": [],
   "source": [
    "# My list of foods I have picked\n",
    "myFoods = [\"Chili\", \"Pear\", \"Peanut Butter\", \"Broccoli\", \"Cottage Cheese\", \"Pancakes\", \"Oatmeal Cookie\"]\n",
    "\n",
    "# This list comprehension gives the indicies of each food in the list\n",
    "indicies = [foods.tolist().index(x) for x in myFoods]\n",
    "\n",
    "# To make m, I get the row (food) from nutrition, and make that a column of m\n",
    "m0 = np.empty((nutrition.shape[1], len(indicies)) )\n",
    "for i, j in enumerate(indicies):\n",
    "    m0[:, i] = nutrition[j]\n",
    "\n",
    "# b is just a row of 18 ones. \n",
    "b0 = np.ones((m0.shape[0], 1) )\n",
    "\n",
    "# Getting my objective vector\n",
    "c1a = np.dot(m0.T, np.ones((b0.shape[0], 1) ))\n",
    "\n",
    "m0 = -m0    # Negate to get inequality in the form Ax <= b\n",
    "b0 = -b0   # Negate to get inequality in form Ax <= b\n",
    "\n",
    "# Now, to add on the cost of all my foods, and 20 to b. I don't want to \n",
    "# Negate this, because I want the cost to be <= 20.\n",
    "m = np.vstack((m0, [costs[x] for x in indicies]) )\n",
    "b = np.vstack((b0, WALLET)  )"
   ]
  },
  {
   "cell_type": "code",
   "execution_count": 4,
   "metadata": {},
   "outputs": [],
   "source": [
    "# I made this quick function to print out the optimization\n",
    "def output (res):\n",
    "    print(\"The servings of each food are as follows: \")\n",
    "    for i in range(0, len(indicies)):\n",
    "        print(myFoods[i] + \":\", np.round(res.x[i], decimals=8))\n",
    "    \n",
    "    print()\n",
    "    costSum = 0\n",
    "    print(\"The cost by item will be: \")\n",
    "    for i in range(0, len(indicies)):\n",
    "        print(myFoods[i] + \" $ per serving:\", costs[indicies[i]], \"Total cost: \", np.round(costs[indicies[i]]*res.x[i], decimals=8))\n",
    "        costSum += costs[indicies[i]]*res.x[i]\n",
    "    print()\n",
    "    print(\"Total cost is:\", \"$\" + str(np.round(costSum, decimals=8)))\n",
    "    \n",
    "    print()\n",
    "    nutSum = 0\n",
    "    for i in range(0, len(indicies)):\n",
    "        nutSum += res.x[i] * np.sum(nutrition[indicies[i]])\n",
    "    print(\"My total nutrition will be:\", nutSum)\n",
    "\n",
    "    print()\n",
    "    calSum = 0\n",
    "    for i in range(0, len(indicies)):\n",
    "        calSum += res.x[i] * calories[indicies[i]]\n",
    "    print(\"My total calories will be:\", calSum)\n"
   ]
  },
  {
   "cell_type": "code",
   "execution_count": 5,
   "metadata": {},
   "outputs": [
    {
     "output_type": "stream",
     "name": "stdout",
     "text": [
      "The servings of each food are as follows: \nChili: 8.21428572\nPear: 0.0\nPeanut Butter: 8.99999999\nBroccoli: 0.0\nCottage Cheese: 0.0\nPancakes: 8.99999997\nOatmeal Cookie: 0.0\n\nThe cost by item will be: \nChili $ per serving: 1.12 Total cost:  9.20000001\nPear $ per serving: 0.4 Total cost:  0.0\nPeanut Butter $ per serving: 0.62 Total cost:  5.58\nBroccoli $ per serving: 0.76 Total cost:  0.0\nCottage Cheese $ per serving: 1.14 Total cost:  0.0\nPancakes $ per serving: 0.58 Total cost:  5.21999998\nOatmeal Cookie $ per serving: 1.96 Total cost:  0.0\n\nTotal cost is: $19.99999999\n\nMy total nutrition will be: 97.69142850672745\n\nMy total calories will be: 8345.642849027861\n"
     ]
    }
   ],
   "source": [
    "# Note the negation of c. \n",
    "res1 = opt.linprog(-c1a, A_ub=m, b_ub=b, bounds=(0, 9))\n",
    "res1.fun = res1.fun * -1   # I need to negate this, -max(-f) = min(f)\n",
    "\n",
    "output(res1)"
   ]
  },
  {
   "source": [
    "Part b:\n",
    "---\n",
    "\n",
    "Now I want to minimzie the calories. So my constraints will stay the same, but my c is going to change. It will now be a min, meaning I don't have to multiply by a negative. Here, c will just be the calories of each food item"
   ],
   "cell_type": "markdown",
   "metadata": {}
  },
  {
   "cell_type": "code",
   "execution_count": 6,
   "metadata": {},
   "outputs": [
    {
     "output_type": "stream",
     "name": "stdout",
     "text": [
      "My total calories will be: 4386.545278617141\n\nThe servings of each food are as follows: \nChili: 0.0\nPear: 8.16027504\nPeanut Butter: 3.79622503\nBroccoli: 0.51814791\nCottage Cheese: 8.99999997\nPancakes: 6.42834148\nOatmeal Cookie: 0.0\n\nThe cost by item will be: \nChili $ per serving: 1.12 Total cost:  0.0\nPear $ per serving: 0.4 Total cost:  3.26411002\nPeanut Butter $ per serving: 0.62 Total cost:  2.35365952\nBroccoli $ per serving: 0.76 Total cost:  0.39379241\nCottage Cheese $ per serving: 1.14 Total cost:  10.25999997\nPancakes $ per serving: 0.58 Total cost:  3.72843806\nOatmeal Cookie $ per serving: 1.96 Total cost:  0.0\n\nTotal cost is: $19.99999998\n\nMy total nutrition will be: 49.06199710256928\n\nMy total calories will be: 4386.545278617141\n"
     ]
    }
   ],
   "source": [
    "c1b = [calories[x] for x in indicies]\n",
    "\n",
    "res2 = opt.linprog(c1b, A_ub=m, b_ub=b, bounds=(0, 9))\n",
    "print(\"My total calories will be:\", res2.fun)\n",
    "print()\n",
    "output(res2)"
   ]
  },
  {
   "source": [
    "Part c: Minimize cost\n",
    "---\n",
    "\n",
    "Like minimizing calories, all I need to do for minimizing cost is set my objective vector to the cost associated with each food. This is done using a simple list comprehension"
   ],
   "cell_type": "markdown",
   "metadata": {}
  },
  {
   "cell_type": "code",
   "execution_count": 7,
   "metadata": {},
   "outputs": [
    {
     "output_type": "stream",
     "name": "stdout",
     "text": [
      "The servings of each food are as follows: \nChili: 0.6756757\nPear: 1.2e-07\nPeanut Butter: 6.30630619\nBroccoli: 3e-08\nCottage Cheese: 2e-07\nPancakes: 8.10810789\nOatmeal Cookie: 3e-08\n\nThe cost by item will be: \nChili $ per serving: 1.12 Total cost:  0.75675679\nPear $ per serving: 0.4 Total cost:  5e-08\nPeanut Butter $ per serving: 0.62 Total cost:  3.90990984\nBroccoli $ per serving: 0.76 Total cost:  2e-08\nCottage Cheese $ per serving: 1.14 Total cost:  2.2e-07\nPancakes $ per serving: 0.58 Total cost:  4.70270258\nOatmeal Cookie $ per serving: 1.96 Total cost:  6e-08\n\nTotal cost is: $9.36936956\n\nMy total nutrition will be: 51.13063010216709\n\nMy total calories will be: 5399.774697210768\n"
     ]
    }
   ],
   "source": [
    "c1c = [costs[x] for x in indicies]\n",
    "res3 = opt.linprog(c1c, A_ub=m, b_ub=b, bounds=(0,9))\n",
    "output(res3)"
   ]
  },
  {
   "source": [
    "Part d:\n",
    "---\n",
    "\n",
    "I need to redo this, but with the constraint that I have a whole number. This is a really ugly way to compute this, but it should work."
   ],
   "cell_type": "markdown",
   "metadata": {}
  },
  {
   "cell_type": "code",
   "execution_count": 8,
   "metadata": {
    "tags": []
   },
   "outputs": [
    {
     "output_type": "stream",
     "name": "stdout",
     "text": [
      "My minimum cost for integers is: 10.1\nNumber of each item: \nChili: 1\nPear: 0\nPeanut Butter: 7\nBroccoli: 0\nCottage Cheese: 0\nPancakes: 8\nOatmeal Cookie: 0\n"
     ]
    }
   ],
   "source": [
    "weights = [-1, -1, -1, -1, -1, -1, -1]\n",
    "min_cost = 100\n",
    "for i in range(0,10):\n",
    "    for j in range(0,10):\n",
    "        for k in range(0,10):\n",
    "            for l in range(0,10):\n",
    "                for p in range(0,10):\n",
    "                    for q in range(0,10):\n",
    "                        for r in range(0,10):\n",
    "                            combo = np.array([i, j, k, l, p, q, r])\n",
    "                            if np.all((np.dot(m,combo) - b.reshape(19) <= 0)):\n",
    "                                if (np.dot(m,combo)[-1] < min_cost):\n",
    "                                    min_cost = np.dot(m,combo)[-1]\n",
    "                                    weights = combo\n",
    "\n",
    "print(\"My minimum cost for integers is:\", min_cost)\n",
    "print(\"Number of each item: \")\n",
    "for i, food in enumerate(myFoods):\n",
    "    print(food + \":\", weights[i])"
   ]
  },
  {
   "source": [
    "Part e\n",
    "---\n",
    "\n",
    "Here, we can just use our original `m0` and `b0` to solve this. And also not use a bound. As you can see, I hope I like peanut butter! I will be eating 14 servings of that every day"
   ],
   "cell_type": "markdown",
   "metadata": {}
  },
  {
   "cell_type": "code",
   "execution_count": 9,
   "metadata": {},
   "outputs": [
    {
     "output_type": "stream",
     "name": "stdout",
     "text": [
      "The servings of each food are as follows: \nChili: 0.67567569\nPear: 1e-08\nPeanut Butter: 23.45248465\nBroccoli: 3e-08\nCottage Cheese: 0.0\nPancakes: 8.10810805\nOatmeal Cookie: 0.0\n\nThe cost by item will be: \nChili $ per serving: 1.12 Total cost:  0.75675677\nPear $ per serving: 0.4 Total cost:  0.0\nPeanut Butter $ per serving: 0.62 Total cost:  14.54054048\nBroccoli $ per serving: 0.76 Total cost:  2e-08\nCottage Cheese $ per serving: 1.14 Total cost:  0.0\nPancakes $ per serving: 0.58 Total cost:  4.70270267\nOatmeal Cookie $ per serving: 1.96 Total cost:  0.0\n\nTotal cost is: $19.99999995\n\nMy total nutrition will be: 126.91673887490343\n\nMy total calories will be: 15516.019990046378\n"
     ]
    }
   ],
   "source": [
    "res4 = opt.linprog(-c1a, A_ub=m, b_ub=b)\n",
    "res4.fun = res4.fun * -1   # I need to negate this, -max(-f) = min(f)\n",
    "\n",
    "output(res4)"
   ]
  },
  {
   "source": [
    "Problem 2: Studying\n",
    "===\n",
    "\n",
    "Now, I want to find out how to study for exams. Luckily, they overlap! So I can optimize my time."
   ],
   "cell_type": "markdown",
   "metadata": {}
  },
  {
   "cell_type": "code",
   "execution_count": 10,
   "metadata": {},
   "outputs": [],
   "source": [
    "subjects = [\"A\", \"B\", \"C\", \"D\", \"E\", \"F\", \"G\", \"H\"]\n",
    "\n",
    "# Set up my m, it will just be 1's and 0's, since a subject is either on the exam or not\n",
    "# I just manually pass input because I don't have too much input\n",
    "m20 = np.zeros((5, len(subjects))  )\n",
    "m20[0, 0:2] = 1\n",
    "m20[1, 2:4] = 1\n",
    "m20[2, 0], m20[2, 2], m20[2, 4:6] = 1, 1, 1\n",
    "m20[3, 1], m20[3, 3:len(subjects)] = 1, 1\n",
    "m20[4, 4], m20[4, 7] = 1, 1\n",
    "\n",
    "# My b will just be the hours needed. Again, its just best to manually input\n",
    "b20 = np.array([10, 2, 3, 5, 8]).reshape((5, 1))\n",
    "\n",
    "# However to pass, I need to get >= to this time. So to flip it to a <= for optimize.linprog, \n",
    "# I need to multiply m2 and b2 by -1\n",
    "m20 = -m20\n",
    "b20 = -b20"
   ]
  },
  {
   "source": [
    "Part a\n",
    "---\n",
    "\n",
    "I want to get the min of A. So my c to minimize will be `[1, 0, 0, 0, 0, 0, 0, 0]`. I am then just minimizing x<sub>1</sub>"
   ],
   "cell_type": "markdown",
   "metadata": {}
  },
  {
   "cell_type": "code",
   "execution_count": 11,
   "metadata": {},
   "outputs": [
    {
     "output_type": "stream",
     "name": "stdout",
     "text": [
      "The minimum I can study suject A is 0.0 hours\n"
     ]
    }
   ],
   "source": [
    "c2a = np.zeros(len(subjects))\n",
    "c2a[0] = 1\n",
    "\n",
    "res2a = opt.linprog(c2a, A_ub=m20, b_ub=b20)\n",
    "print(\"The minimum I can study suject A is\", np.round(res2a.fun, decimals=8), \"hours\")"
   ]
  },
  {
   "source": [
    "Part b\n",
    "---\n",
    "\n",
    "So now I want to maximize my GPA. So I want to maximize the objective function with my c being the total of the rows of m. Then to make it a minimum, I just want to multiply that by -1. In addition, I need to add a new constraint, a row of all 1's that is less then 40. "
   ],
   "cell_type": "markdown",
   "metadata": {}
  },
  {
   "cell_type": "code",
   "execution_count": 12,
   "metadata": {},
   "outputs": [],
   "source": [
    "# Another function to do output\n",
    "def output_grades (res):\n",
    "    print(\"Time spent per subject: \")\n",
    "    for i in range(0, len(subjects)):\n",
    "        print(subjects[i] + \":\", np.round(res.x[i], decimals=8))\n",
    "    \n",
    "    print()\n",
    "    print(\"Time spent by exam: \")\n",
    "    print(\"Exam 1:\", np.round(res.x[0] + res.x[1], decimals=8))\n",
    "    print(\"Exam 2:\", np.round(res.x[2] + res.x[3], decimals=8))\n",
    "    print(\"Exam 3:\", np.round(res.x[0] + res.x[2] + res.x[4] + res.x[5], decimals=8))\n",
    "    print(\"Exam 4:\", np.round(res.x[1] + res.x[3] + res.x[4] + res.x[5] + res.x[6] + res.x[7], decimals=8))\n",
    "    print(\"Exam 5:\", np.round(res.x[4] + res.x[7], decimals=8))\n",
    "\n",
    "    print()\n",
    "    print(\"The average GPA will be:\", res.fun/len(subjects))"
   ]
  },
  {
   "cell_type": "code",
   "execution_count": 13,
   "metadata": {},
   "outputs": [
    {
     "output_type": "stream",
     "name": "stdout",
     "text": [
      "Time spent per subject: \nA: 5.0113204\nB: 4.9886796\nC: 0.90285615\nD: 1.09714389\nE: 27.99999974\nF: 3e-08\nG: 2e-08\nH: 3e-08\n\nTime spent by exam: \nExam 1: 10.0\nExam 2: 2.00000004\nExam 3: 33.91417632\nExam 4: 34.08582331\nExam 5: 27.99999977\n\nThe average GPA will be: 13.49999993099433\n"
     ]
    }
   ],
   "source": [
    "c2b = np.sum(m20, axis=0)\n",
    "\n",
    "m2 = np.vstack((m20, np.ones(len(subjects))) )\n",
    "b2 = np.vstack((b20, 40))\n",
    "\n",
    "res2b = opt.linprog(c2b, A_ub=m2, b_ub=b2)\n",
    "res2b.fun = res2b.fun * -1  # Negating again since its a max\n",
    "\n",
    "output_grades(res2b)"
   ]
  },
  {
   "source": [
    "Part c\n",
    "---\n",
    "\n",
    "Lastly, I want to minimize time spent. To do this, I just want my c to be all ones, so that it is a minimum. Everything else is the same as before"
   ],
   "cell_type": "markdown",
   "metadata": {}
  },
  {
   "cell_type": "code",
   "execution_count": 14,
   "metadata": {},
   "outputs": [
    {
     "output_type": "stream",
     "name": "stdout",
     "text": [
      "Time spent per subject: \nA: 5.70259631\nB: 4.29740355\nC: 1.0030313\nD: 0.9969688\nE: 2.95628828\nF: 9e-08\nG: 7e-08\nH: 5.04371164\n\nTime spent by exam: \nExam 1: 9.99999986\nExam 2: 2.0000001\nExam 3: 9.66191598\nExam 4: 13.29437242\nExam 5: 7.99999992\n\nThe average GPA will be: 2.500000003953221\n"
     ]
    },
    {
     "output_type": "execute_result",
     "data": {
      "text/plain": [
       "20.000000031625767"
      ]
     },
     "metadata": {},
     "execution_count": 14
    }
   ],
   "source": [
    "c2c = np.ones(len(subjects))\n",
    "res2c = opt.linprog(c2c, A_ub=m2, b_ub=b2)\n",
    "output_grades(res2c)\n",
    "res2c.fun"
   ]
  },
  {
   "source": [
    "It appears exam 1, 2, and 5 I will barely pass, but 3 and 4 I will overstudy for. "
   ],
   "cell_type": "markdown",
   "metadata": {}
  }
 ]
}