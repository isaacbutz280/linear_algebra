{
 "metadata": {
  "orig_nbformat": 2,
  "kernelspec": {
   "name": "python385jvsc74a57bd031f2aee4e71d21fbe5cf8b01ff0e069b9275f58929596ceb00d14d90e3e16cd6",
   "display_name": "Python 3.8.5 64-bit"
  },
  "metadata": {
   "interpreter": {
    "hash": "31f2aee4e71d21fbe5cf8b01ff0e069b9275f58929596ceb00d14d90e3e16cd6"
   }
  }
 },
 "nbformat": 4,
 "nbformat_minor": 2,
 "cells": [
  {
   "cell_type": "code",
   "execution_count": 1,
   "metadata": {},
   "outputs": [],
   "source": [
    "import numpy as np \n",
    "import copy"
   ]
  },
  {
   "source": [
    "Problem 1\n",
    "===\n",
    "\n",
    "For this part, I have a payoff matrix `X` that I will be analyizing. First I will remove and dominated columns, then find the expectation of the game. Lastly, I will look for long term winning conditions for both the row and column player\n",
    "\n",
    "Part a \n",
    "---\n",
    "\n",
    "I need to remove all dominated rows in `X`. I made myself 2 functions that can quickly check what rows and columns are dominated. So I run these on X, and it seems there are no strategies to remove"
   ],
   "cell_type": "markdown",
   "metadata": {}
  },
  {
   "cell_type": "code",
   "execution_count": 2,
   "metadata": {},
   "outputs": [],
   "source": [
    "letters = [\"A\", \"B\", \"C\", \"D\", \"E\", \"F\"]\n",
    "# To remove rows, do a comparison\n",
    "def remove_rows(a, letter):\n",
    "    for i in range(0, a.shape[0] - 1):\n",
    "        for j in range(i + 1, a.shape[0]):\n",
    "            if (np.all(a[i] - a[j] <= 0)):\n",
    "                print(\"Row\", letter[j], \"dominates row\", letters[i])\n",
    "            elif (np.all(a[i] - a[j] >= 0)):\n",
    "                print(\"Row\", letter[i], \"dominates row\", letter[j])\n",
    "\n",
    "# And do a similar comparison to remove the columns\n",
    "def remove_cols(a, letter):\n",
    "    for i in range(0, a.shape[1] - 1):\n",
    "        for j in range(i + 1, a.shape[1]):\n",
    "            if (np.all(a[:,i] - a[:,j] >= 0)):\n",
    "                print(\"Column\", letter[j], \"dominates column\", letter[i])\n",
    "            elif (np.all(a[:,i] - a[:,j] <= 0)):\n",
    "                print(\"Column\", letter[i], \"dominates column\", letter[j])"
   ]
  },
  {
   "cell_type": "code",
   "execution_count": 3,
   "metadata": {},
   "outputs": [
    {
     "output_type": "execute_result",
     "data": {
      "text/plain": [
       "array([[ 4, -3,  1,  3,  6,  2],\n",
       "       [ 5,  9,  3,  9, -5,  5],\n",
       "       [ 3,  8,  3,  5,  7, -7],\n",
       "       [-9,  9,  7,  3,  2,  4],\n",
       "       [ 9,  4,  8, -1,  1,  1],\n",
       "       [ 2,  4, -2,  2,  5,  9]])"
      ]
     },
     "metadata": {},
     "execution_count": 3
    }
   ],
   "source": [
    "X = np.array([[4, -3, 1, 3, 6, 2], [5, 9, 3, 9, -5, 5], \n",
    "              [3, 8, 3, 5, 7, -7], [-9, 9, 7, 3, 2, 4], \n",
    "              [9, 4, 8, -1, 1, 1], [2, 4, -2, 2, 5, 9]])\n",
    "remove_rows(X, letters)\n",
    "remove_cols(X, letters)\n",
    "X   "
   ]
  },
  {
   "source": [
    "Since my remove functions didn't print out anything, I don't have a dominating strategy\n",
    "\n",
    "\n",
    "Part b\n",
    "---\n",
    "\n",
    "Next, I need to find the expectation of the game. Here, I will use `M` as my matrix with all dominated strategies removed. Since I will be doing this multiple times, I made a function that will take an nxn matirix `M`, and return to me 3 things.\n",
    "\n",
    "> 1. The probability list for the row player to meet the game's expectation\n",
    "> 2. The probability list for the column player to meet the game's expectation\n",
    "> 3. The game's expectation\n",
    "\n",
    "The first return value will be a list named `p`, the second will be list named `q`, and the last is a value E"
   ],
   "cell_type": "markdown",
   "metadata": {}
  },
  {
   "cell_type": "code",
   "execution_count": 4,
   "metadata": {},
   "outputs": [],
   "source": [
    "def game_expect(M):\n",
    "    one = np.ones((M.shape[0], 1)   )\n",
    "\n",
    "    x = np.linalg.solve(M.T, one)   # The row solved against 1's\n",
    "    y = np.linalg.solve(M, one)     # The col solved against 1's\n",
    "\n",
    "    p = x/np.sum(x)\n",
    "    q = y/np.sum(y)\n",
    "\n",
    "    E = np.dot(M, q)[0,0]\n",
    "\n",
    "    return (p, q, E)"
   ]
  },
  {
   "cell_type": "code",
   "execution_count": 5,
   "metadata": {},
   "outputs": [
    {
     "output_type": "stream",
     "name": "stdout",
     "text": [
      "My expected value of the game is 3.01289\nSince this is positive, it favors the row player\n"
     ]
    }
   ],
   "source": [
    "px, qx, Ex = game_expect(X)\n",
    "print(\"My expected value of the game is\", np.round(Ex, decimals=5))\n",
    "print(\"Since this is positive, it favors the row player\")"
   ]
  },
  {
   "source": [
    "Part c & d \n",
    "---\n",
    "\n",
    "Now, I want to find the probability options that can guarantee the game expectation. I already have my `p` and `q`, and I didn't remove any rows or columns. So in this instance, 'p' is how to ensure the row player will meet the game expectation, and `q` is how the column player meets the expectation. I made a quick printing function for this, since I will need it for the other parts of this project as well"
   ],
   "cell_type": "markdown",
   "metadata": {}
  },
  {
   "cell_type": "code",
   "execution_count": 6,
   "metadata": {},
   "outputs": [],
   "source": [
    "def print_prob(p, q):\n",
    "    print(\"The row player's picks should be as follows:\")\n",
    "    for i, prob in enumerate(p):\n",
    "        print(letters[i], \"picked\", np.round(prob, decimals=4) * 100, \"% of the time\")\n",
    "\n",
    "    print()\n",
    "    print(\"The column player's picks should be as follows:\")\n",
    "    for i, prob in enumerate(q):\n",
    "        print(letters[i], \"picked\", np.round(prob, decimals=4) * 100, \"% of the time\")"
   ]
  },
  {
   "cell_type": "code",
   "execution_count": 7,
   "metadata": {},
   "outputs": [
    {
     "output_type": "stream",
     "name": "stdout",
     "text": [
      "The row player's picks should be as follows:\nA picked [35.81] % of the time\nB picked [13.18] % of the time\nC picked [5.15] % of the time\nD picked [13.1] % of the time\nE picked [18.44] % of the time\nF picked [14.33] % of the time\n\nThe column player's picks should be as follows:\nA picked [8.72] % of the time\nB picked [3.33] % of the time\nC picked [23.8] % of the time\nD picked [22.5] % of the time\nE picked [25.44] % of the time\nF picked [16.21] % of the time\n"
     ]
    }
   ],
   "source": [
    "print_prob (px, qx)"
   ]
  },
  {
   "source": [
    "Problem 2\n",
    "===\n",
    "\n",
    "Now, I have another matrix `Y`, I want to do the same process too. So I will start with looking for dominated strategies, then expectation, and lastly how to garuentee the row or column player will win in the long run.\n",
    "\n",
    "Part a\n",
    "---\n",
    "\n",
    "First, I can just call my above methods to see what rows and columns need to be removed"
   ],
   "cell_type": "markdown",
   "metadata": {}
  },
  {
   "cell_type": "code",
   "execution_count": 8,
   "metadata": {},
   "outputs": [
    {
     "output_type": "stream",
     "name": "stdout",
     "text": [
      "Row A dominates row D\nRow B dominates row C\nRow B dominates row D\nRow B dominates row F\nRow C dominates row D\n"
     ]
    }
   ],
   "source": [
    "Y = np.array([[1, 8, 8, 6, 3, 8], [5, 5, 8, 9, 9, 9],\n",
    "              [3, 3, 3, 4, 8, 7], [0, 2, 3, 3, 2, 5], \n",
    "              [7, 9, 4, 4, 6, 4], [5, 0, 3, 5, 7, 1]])\n",
    "\n",
    "remove_rows(Y, letters)"
   ]
  },
  {
   "source": [
    "It seems that rows C, D, and F are all dominated, lets remove them. But I also want to add them to a list so I know where to add zeros back into later"
   ],
   "cell_type": "markdown",
   "metadata": {}
  },
  {
   "cell_type": "code",
   "execution_count": 9,
   "metadata": {},
   "outputs": [
    {
     "output_type": "stream",
     "name": "stdout",
     "text": [
      "Column A dominates column B\nColumn C dominates column F\nColumn D dominates column F\n"
     ]
    }
   ],
   "source": [
    "Yrowsdel = copy.copy(letters)\n",
    "Yrowsdel.remove('C')\n",
    "Yrowsdel.remove('D')\n",
    "Yrowsdel.remove('F')\n",
    "\n",
    "Y = np.delete(Y, 2, 0)\n",
    "# Since I have already deleted a row or two, I need to subtract 1 or 2 from 3 and 5 \n",
    "# respectively so I am removing the right row\n",
    "Y = np.delete(Y, 2, 0)\n",
    "Y = np.delete(Y, 3, 0)\n",
    "\n",
    "# And now to check the cols\n",
    "remove_cols(Y, letters)"
   ]
  },
  {
   "source": [
    "So it seems in the columns, B and F are dominated. So lets remove those, and again remember what I deleted"
   ],
   "cell_type": "markdown",
   "metadata": {}
  },
  {
   "cell_type": "code",
   "execution_count": 10,
   "metadata": {},
   "outputs": [
    {
     "output_type": "stream",
     "name": "stdout",
     "text": [
      "Row B dominates row A\n"
     ]
    }
   ],
   "source": [
    "Ycolsdel = copy.copy(letters)\n",
    "Ycolsdel.remove('B')\n",
    "Ycolsdel.remove('F')\n",
    "\n",
    "Y = np.delete(Y, 1, 1)\n",
    "# Again, sub 1 from 2 and 2 from 3 since I am deleting rows\n",
    "Y = np.delete(Y, 4, 1)\n",
    "\n",
    "# Check again to see what needs to be removed\n",
    "remove_rows(Y, Yrowsdel)\n",
    "remove_cols(Y, Ycolsdel)"
   ]
  },
  {
   "cell_type": "code",
   "execution_count": 11,
   "metadata": {},
   "outputs": [
    {
     "output_type": "stream",
     "name": "stdout",
     "text": [
      "Column C dominates column D\nColumn C dominates column E\nColumn D dominates column E\n"
     ]
    }
   ],
   "source": [
    "Yrowsdel.remove('A')\n",
    "\n",
    "Y = np.delete(Y, 0, 0)\n",
    "remove_rows(Y, Yrowsdel)\n",
    "remove_cols(Y, Ycolsdel)"
   ]
  },
  {
   "cell_type": "code",
   "execution_count": 12,
   "metadata": {},
   "outputs": [
    {
     "output_type": "execute_result",
     "data": {
      "text/plain": [
       "array([[5, 8],\n",
       "       [7, 4]])"
      ]
     },
     "metadata": {},
     "execution_count": 12
    }
   ],
   "source": [
    "Ycolsdel.remove('D')\n",
    "Ycolsdel.remove('E')\n",
    "\n",
    "# Now I need to remove column 2 and 3\n",
    "Y = np.delete(Y, 2, 1)\n",
    "Y = np.delete(Y, 2, 1)\n",
    "\n",
    "remove_rows(Y, Yrowsdel)\n",
    "remove_cols(Y, Ycolsdel)\n",
    "# Since I have no output, this is the final array\n",
    "Y"
   ]
  },
  {
   "source": [
    "Part b\n",
    "---\n",
    "\n",
    "Now, Like above we are going to check the expectaion of the game. I made the function to get expected game value "
   ],
   "cell_type": "markdown",
   "metadata": {}
  },
  {
   "cell_type": "code",
   "execution_count": 13,
   "metadata": {},
   "outputs": [
    {
     "output_type": "stream",
     "name": "stdout",
     "text": [
      "My expected value of the game is 6.0\nSince this is positive, it favors the row player\n"
     ]
    }
   ],
   "source": [
    "pytemp, qytemp, Ey = game_expect(Y)\n",
    "pytemp = pytemp.tolist()\n",
    "qytemp = qytemp.tolist()\n",
    "\n",
    "print(\"My expected value of the game is\", np.round(Ey, decimals=5))\n",
    "print(\"Since this is positive, it favors the row player\")"
   ]
  },
  {
   "source": [
    "Part c & d\n",
    "---\n",
    "\n",
    "Again, I already made functions to get `p` and `q`. So now to make it a probability vector for A through F, I need to insert 0's where applicable"
   ],
   "cell_type": "markdown",
   "metadata": {}
  },
  {
   "cell_type": "code",
   "execution_count": 14,
   "metadata": {},
   "outputs": [
    {
     "output_type": "stream",
     "name": "stdout",
     "text": [
      "The row player's picks should be as follows:\nA picked 0 % of the time\nB picked [50.] % of the time\nC picked 0 % of the time\nD picked 0 % of the time\nE picked [50.] % of the time\nF picked 0 % of the time\n\nThe column player's picks should be as follows:\nA picked [66.67] % of the time\nB picked 0 % of the time\nC picked [33.33] % of the time\nD picked 0 % of the time\nE picked 0 % of the time\nF picked 0 % of the time\n"
     ]
    }
   ],
   "source": [
    "py = []\n",
    "for l in letters:\n",
    "    if l in Yrowsdel:\n",
    "        py.append(pytemp.pop(0))\n",
    "    else:\n",
    "        py.append(0)\n",
    "qy = []\n",
    "for l in letters:\n",
    "    if l in Ycolsdel:\n",
    "        qy.append(qytemp.pop(0))\n",
    "    else:\n",
    "        qy.append(0)\n",
    "print_prob(py, qy)"
   ]
  },
  {
   "source": [
    "Problem 3\n",
    "===\n",
    "\n",
    "Once again, I will be following the same strategy that we have done for the other 2 matricies. However this one, `Z`, has boundary cases, so I will have to keep that in mind. \n",
    "\n",
    "Part a\n",
    "---\n",
    "\n",
    "Lets use the same process to pick what rows and columns are dominated"
   ],
   "cell_type": "markdown",
   "metadata": {}
  },
  {
   "cell_type": "code",
   "execution_count": 15,
   "metadata": {},
   "outputs": [
    {
     "output_type": "stream",
     "name": "stdout",
     "text": [
      "Column C dominates column B\n"
     ]
    }
   ],
   "source": [
    "Zletters = letters[0:3]\n",
    "Z = np.array([[9, 8, 1], [6, 7, 7], [8, 8, 2]])\n",
    "\n",
    "remove_rows(Z, Zletters)\n",
    "remove_cols(Z, Zletters)"
   ]
  },
  {
   "cell_type": "code",
   "execution_count": 16,
   "metadata": {},
   "outputs": [
    {
     "output_type": "execute_result",
     "data": {
      "text/plain": [
       "array([[9, 1],\n",
       "       [6, 7],\n",
       "       [8, 2]])"
      ]
     },
     "metadata": {},
     "execution_count": 16
    }
   ],
   "source": [
    "Zcolsdel = copy.copy(Zletters)\n",
    "Zcolsdel.remove('B')\n",
    "\n",
    "# I can remove column 2, and try again\n",
    "Z = np.delete(Z, 1, 1)\n",
    "remove_rows(Z, Zletters)\n",
    "remove_cols(Z, Zcolsdel)\n",
    "Z"
   ]
  },
  {
   "source": [
    "Part b\n",
    "---\n",
    "\n",
    "Again, I need to find the expectation of the game. However, this needs to be broken up into sub problems since it is not a square Matrix. So I have my 3 sub-matricies. The name is Z followed by the row they do **not** include. After I break it up, I once again need to check for dominating rows and columns."
   ],
   "cell_type": "markdown",
   "metadata": {}
  },
  {
   "cell_type": "code",
   "execution_count": 17,
   "metadata": {},
   "outputs": [
    {
     "output_type": "stream",
     "name": "stdout",
     "text": [
      "For Za:\n\nFor Zb:\nColumn B dominates column A\n\nFor Zc:\n\n"
     ]
    }
   ],
   "source": [
    "Zc = Z[0:2]\n",
    "Za = Z[1:3]\n",
    "Zb = np.array([Z[0], Z[2]])\n",
    "\n",
    "print(\"For Za:\")\n",
    "remove_rows(Za, Zletters)\n",
    "remove_cols(Za, Zletters)\n",
    "print()\n",
    "print(\"For Zb:\")\n",
    "remove_rows(Zb, Zletters)\n",
    "remove_cols(Zb, Zletters)\n",
    "print()\n",
    "print(\"For Zc:\")\n",
    "remove_rows(Zc, Zletters)\n",
    "remove_cols(Zc, Zletters)\n",
    "print()"
   ]
  },
  {
   "cell_type": "code",
   "execution_count": 18,
   "metadata": {},
   "outputs": [
    {
     "output_type": "stream",
     "name": "stdout",
     "text": [
      "Row C dominates row A\n"
     ]
    }
   ],
   "source": [
    "# So Zb needs to have A removed\n",
    "Zbrowsdel = copy.copy(Zletters)\n",
    "Zbcolsdel = copy.copy(Zletters)\n",
    "Zbcolsdel.remove('A')\n",
    "Zbrowsdel.remove('B')   # I removed b (cause this is Zb), so remove it from letters\n",
    "\n",
    "Zb = np.delete(Zb, 0, 1)\n",
    "\n",
    "remove_rows(Zb, Zbrowsdel)\n",
    "remove_cols(Zb, Zletters)"
   ]
  },
  {
   "cell_type": "code",
   "execution_count": 19,
   "metadata": {},
   "outputs": [
    {
     "output_type": "execute_result",
     "data": {
      "text/plain": [
       "array([[2]])"
      ]
     },
     "metadata": {},
     "execution_count": 19
    }
   ],
   "source": [
    "# And now column B dominates column A, lets remove\n",
    "Zbrowsdel.remove('A')\n",
    "\n",
    "Zb = np.delete(Zb, 0, 0)\n",
    "\n",
    "remove_rows(Zb, Zbrowsdel)\n",
    "remove_cols(Zb, Zbcolsdel)\n",
    "Zb"
   ]
  },
  {
   "source": [
    "Since there is only 1 value left, this is the expected game value of Zb. Now I can use my other functions to get the expected game value of Za and Zc"
   ],
   "cell_type": "markdown",
   "metadata": {}
  },
  {
   "cell_type": "code",
   "execution_count": 20,
   "metadata": {},
   "outputs": [
    {
     "output_type": "stream",
     "name": "stdout",
     "text": [
      "My expected value of Za is 6.28571\n\nMy expected value of Zc is 6.33333\n"
     ]
    }
   ],
   "source": [
    "pza, qza, Eza = game_expect(Za)\n",
    "pzc, qzc, Ezc = game_expect(Zc)\n",
    "\n",
    "print(\"My expected value of Za is\", np.round(Eza, decimals=5))\n",
    "print()\n",
    "print(\"My expected value of Zc is\", np.round(Ezc, decimals=5))"
   ]
  },
  {
   "source": [
    "Now, because the row player gets to pick on what subgame is played (because there are more rows then columns) he will want to maximize the game value. So he would go with Zc, or remove the C row from his playing pool.\n",
    "\n",
    "Part c & d\n",
    "---\n",
    "\n",
    "I can now use this to find the probability for `pz` and `pq`. I already found `pzc` and `qzc`, so I just have to and 0's where appropriate"
   ],
   "cell_type": "markdown",
   "metadata": {}
  },
  {
   "cell_type": "code",
   "execution_count": 21,
   "metadata": {},
   "outputs": [
    {
     "output_type": "stream",
     "name": "stdout",
     "text": [
      "The row player's picks should be as follows:\nA picked [11.11] % of the time\nB picked [88.89] % of the time\nC picked 0 % of the time\nD picked 0 % of the time\nE picked 0 % of the time\nF picked 0 % of the time\n\nThe column player's picks should be as follows:\nA picked [66.67] % of the time\nB picked 0 % of the time\nC picked [33.33] % of the time\nD picked 0 % of the time\nE picked 0 % of the time\nF picked 0 % of the time\n"
     ]
    }
   ],
   "source": [
    "Zrowsdel = copy.copy(Zletters)\n",
    "Zrowsdel.remove('C')   # Remove C since that was our boundary case\n",
    "pztemp = pzc.tolist()\n",
    "qztemp = qzc.tolist()\n",
    "\n",
    "pz = []\n",
    "for l in letters:\n",
    "    if l in Zrowsdel:\n",
    "        pz.append(pztemp.pop(0))\n",
    "    else:\n",
    "        pz.append(0)\n",
    "qz = []\n",
    "for l in letters:\n",
    "    if l in Zcolsdel:\n",
    "        qz.append(qztemp.pop(0))\n",
    "    else:\n",
    "        qz.append(0)\n",
    "print_prob(pz, qz)"
   ]
  }
 ]
}