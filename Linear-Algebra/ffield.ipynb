{
 "metadata": {
  "language_info": {
   "codemirror_mode": {
    "name": "ipython",
    "version": 3
   },
   "file_extension": ".py",
   "mimetype": "text/x-python",
   "name": "python",
   "nbconvert_exporter": "python",
   "pygments_lexer": "ipython3",
   "version": "3.8.5"
  },
  "orig_nbformat": 2,
  "kernelspec": {
   "name": "python385jvsc74a57bd0916dbcbb3f70747c44a77c7bcd40155683ae19c65e1c03b4aa3499c5328201f1",
   "display_name": "Python 3.8.5 64-bit"
  },
  "metadata": {
   "interpreter": {
    "hash": "916dbcbb3f70747c44a77c7bcd40155683ae19c65e1c03b4aa3499c5328201f1"
   }
  }
 },
 "nbformat": 4,
 "nbformat_minor": 2,
 "cells": [
  {
   "cell_type": "code",
   "execution_count": 1,
   "metadata": {},
   "outputs": [],
   "source": [
    "import numpy as np"
   ]
  },
  {
   "source": [
    "Problem 1\n",
    "===\n",
    "\n",
    "Part a\n",
    "---\n",
    "\n",
    "I am adding these vectors together, then doing mod 2. This result is `u`"
   ],
   "cell_type": "markdown",
   "metadata": {}
  },
  {
   "cell_type": "code",
   "execution_count": 2,
   "metadata": {},
   "outputs": [
    {
     "output_type": "stream",
     "name": "stdout",
     "text": [
      "[0 1 0 1 1 0 1 0]\n"
     ]
    }
   ],
   "source": [
    "v = np.array([1, 0, 0, 1, 0, 1, 1, 0])\n",
    "b = np.array([1, 1, 0, 0, 1, 1, 0, 0])\n",
    "\n",
    "u = (v+b)%2\n",
    "print(u)\n"
   ]
  },
  {
   "source": [
    "Part b\n",
    "---"
   ],
   "cell_type": "markdown",
   "metadata": {}
  },
  {
   "cell_type": "code",
   "execution_count": 3,
   "metadata": {},
   "outputs": [
    {
     "output_type": "stream",
     "name": "stdout",
     "text": [
      "u + b mod 2 is:\n[1 0 0 1 0 1 1 0]\n\nCompared to v this is:\n[ True  True  True  True  True  True  True  True]\n"
     ]
    }
   ],
   "source": [
    "t = (u + b)%2\n",
    "print(\"u + b mod 2 is:\")\n",
    "print(t)\n",
    "print()\n",
    "print(\"Compared to v this is:\")\n",
    "print(t == v)"
   ]
  },
  {
   "source": [
    "Part c\n",
    "---\n",
    "\n",
    "This is the same as v. This makes sense since we are modding by 2, adding `b` has the equivalent effect of subtracting by `b`. So `u + b` will be the same as `u - b`, which is equal to `v`"
   ],
   "cell_type": "markdown",
   "metadata": {}
  },
  {
   "source": [
    "Problem 2\n",
    "===\n",
    "\n",
    "Now, I am solving to find a linear recurrance. The list of 1's and 0's is found below. I can solve linear systems created from this data repeatedly until I get a suitable pattern"
   ],
   "cell_type": "markdown",
   "metadata": {}
  },
  {
   "cell_type": "code",
   "execution_count": 4,
   "metadata": {},
   "outputs": [],
   "source": [
    "recurrence = [1, 0, 1, 0, 1, 0, 0, 1, 0, 0, 1, 1, 1, 1, 0, 0, 0, 0, 0, 1, 1, 0, \n",
    "              1, 1, 1, 0, 0, 1, 1, 0, 0, 0, 1, 1, 1, 0, 1, 0, 1, 1, 1, 1, 1, 1,\n",
    "              0, 1, 1, 0, 1, 0, 0, 0, 1, 0, 0, 0, 0, 1, 0, 1, 1, 0, 0, 1, 0, 1,\n",
    "              0, 1, 0, 0, 1, 0, 0, 1, 1, 1, 1, 0, 0, 0, 0, 0, 1, 1, 0, 1, 1, 1,\n",
    "              0, 0, 1, 1, 0, 0, 0, 1, 1, 1, 0, 1, 0, 1, 1, 1, 1, 1, 1, 0, 1, 1,\n",
    "              0, 1, 0, 0, 0, 1, 0, 0, 0, 0, 1, 0, 1, 1, 0, 0, 1, 0]"
   ]
  },
  {
   "source": [
    "Part a\n",
    "---\n",
    "\n",
    "I made 3 functions to help me. First is `get_matrix()`, which given a size will return the appropriate sized matrix. For example, if I do `get_matrix(2)` it will give me `[[x1, x2], [x2, x3]]` and `[x3, x4]`.\n",
    "\n",
    "Once I have my matrix and the vector, I can do a linear solve. However I can't do `np.linalg.solve()` because I need it to be modulus 2. So I made my own solving function, `lin_solve()`, to do this.\n",
    "\n",
    "Lastly, I wanted to test my answer. Once I solve, I can pass my coefficient vector into `test_coefs()` and it will check it against all of `recurrence`. If an element fails, then it will print out where it failed. If the coefficients solve the recurrence equation, then it will print \"This works!\"\n",
    "\n",
    "Now that I have these three functions, the process is simple. Starting with size 2, I need to get my matricies from the recurrence. This is done with the `get_matrix()`. Then, I need to solve the Matrix problem, which is done with `lin_solve()`. I can check to make sure there was a solution (aka det != 0), before testing my coefficients with the `test_coefs()` function. If something fails along the way, I just increment the size. Once we make it to the end, we will get the message \"This works!\". This process can be automated, but I step through it manually to help see the math along the way, and for dramatic effect."
   ],
   "cell_type": "markdown",
   "metadata": {}
  },
  {
   "cell_type": "code",
   "execution_count": 5,
   "metadata": {},
   "outputs": [],
   "source": [
    "# Sets up for linear solve\n",
    "def get_matrix(size):\n",
    "    # A 2d array, gets slices from x to x + size\n",
    "    M = [recurrence[x : x + size] for x in range(0, size)]\n",
    "    M = np.array(M)   # Make it a numpy array\n",
    "\n",
    "    # And get our q, just get the answer slice\n",
    "    q = recurrence[size : size + size] \n",
    "\n",
    "    return (M, q)\n",
    "\n",
    "\n",
    "# To solve, I first want to check the determinate. If my det == 0, then\n",
    "# there will be no solution. It it's 1, I will solve the equation\n",
    "# using the inverse\n",
    "def lin_solve(M, q):\n",
    "    detM = np.linalg.det(M)\n",
    "    if detM != 0:\n",
    "        # This is (Inv(M) * det(M))%2 dotted with q, then %2 again.\n",
    "        # (Inv(M) * det(M))%2 gives the inverse in %2, dotting solves it\n",
    "        return np.dot((np.linalg.inv(M) * detM)%2, q)%2\n",
    "    else:\n",
    "        # Our error message, letting us know no solution\n",
    "        print(\"Determinate is zero!\")\n",
    "\n",
    "\n",
    "# A test. Given a size and vector of contstants, we can dot this to \n",
    "# see how far our recurrance equation takes us.\n",
    "def test_coefs(size, cs):\n",
    "    # Goes through starting at size until the end\n",
    "    for i in range(size, len(recurrence)):\n",
    "        # We check the dot. Dotting by [c1, c2,..., cn] will \n",
    "        # give the predicted value. Check to see if it matches\n",
    "        if recurrence[i] != np.dot(recurrence[i - size : i], cs)%2:\n",
    "            print(\"Failed, x\" + str(i + 1) + \" should be\", recurrence[i],\\\n",
    "                 \"but was\", np.dot(recurrence[i - size: i], cs)%2)\n",
    "            return\n",
    "    # All worked, print success\n",
    "    print(\"This works!\")"
   ]
  },
  {
   "cell_type": "code",
   "execution_count": 6,
   "metadata": {},
   "outputs": [
    {
     "output_type": "execute_result",
     "data": {
      "text/plain": [
       "array([1., 0.])"
      ]
     },
     "metadata": {},
     "execution_count": 6
    }
   ],
   "source": [
    "# Here we are starting with size = 2\n",
    "size = 2\n",
    "M2, q2 = get_matrix(size)\n",
    "cs2 = lin_solve(M2, q2)\n",
    "cs2"
   ]
  },
  {
   "cell_type": "code",
   "execution_count": 7,
   "metadata": {},
   "outputs": [
    {
     "output_type": "stream",
     "name": "stdout",
     "text": [
      "Failed, x7 should be 0 but was 1.0\n"
     ]
    }
   ],
   "source": [
    "# That solved, so lets test\n",
    "test_coefs(size, cs2)"
   ]
  },
  {
   "cell_type": "code",
   "execution_count": 8,
   "metadata": {},
   "outputs": [
    {
     "output_type": "stream",
     "name": "stdout",
     "text": [
      "Determinate is zero!\n"
     ]
    }
   ],
   "source": [
    "# Okay that failed... lets try 3\n",
    "size = 3\n",
    "M3, q3 = get_matrix(size)\n",
    "cs3 = lin_solve(M3, q3)\n",
    "cs3"
   ]
  },
  {
   "cell_type": "code",
   "execution_count": 9,
   "metadata": {},
   "outputs": [
    {
     "output_type": "stream",
     "name": "stdout",
     "text": [
      "Determinate is zero!\n"
     ]
    }
   ],
   "source": [
    "# So no solution, lets try it for 4\n",
    "size = 4\n",
    "M4, q4 = get_matrix(size)\n",
    "cs4 = lin_solve(M4, q4)\n",
    "cs4"
   ]
  },
  {
   "cell_type": "code",
   "execution_count": 10,
   "metadata": {},
   "outputs": [
    {
     "output_type": "execute_result",
     "data": {
      "text/plain": [
       "array([1., 1., 0., 1., 1.])"
      ]
     },
     "metadata": {},
     "execution_count": 10
    }
   ],
   "source": [
    "# Unlucky, lets try 5\n",
    "size = 5\n",
    "M5, q5 = get_matrix(size)\n",
    "cs5 = lin_solve(M5, q5)\n",
    "cs5"
   ]
  },
  {
   "cell_type": "code",
   "execution_count": 11,
   "metadata": {},
   "outputs": [
    {
     "output_type": "stream",
     "name": "stdout",
     "text": [
      "Failed, x11 should be 1 but was 0.0\n"
     ]
    }
   ],
   "source": [
    "# Aha! Lets test\n",
    "test_coefs(size, cs5)"
   ]
  },
  {
   "cell_type": "code",
   "execution_count": 12,
   "metadata": {},
   "outputs": [
    {
     "output_type": "execute_result",
     "data": {
      "text/plain": [
       "array([1., 1., 0., 0., 1., 1.])"
      ]
     },
     "metadata": {},
     "execution_count": 12
    }
   ],
   "source": [
    "# Well, it went a little bit before failing, try 6\n",
    "size = 6\n",
    "M6, q6 = get_matrix(size)\n",
    "cs6 = lin_solve(M6, q6)\n",
    "cs6"
   ]
  },
  {
   "cell_type": "code",
   "execution_count": 13,
   "metadata": {},
   "outputs": [
    {
     "output_type": "stream",
     "name": "stdout",
     "text": [
      "This works!\n"
     ]
    }
   ],
   "source": [
    "test_coefs(size, cs6)"
   ]
  },
  {
   "source": [
    "We found our formula! So the linear recurrance follows the pattern:\n",
    "\n",
    "> x<sub>i</sub> = (x<sub>i-6</sub> + x<sub>i-5</sub> + x<sub>i-2</sub> + x<sub>i-1</sub>) % 2"
   ],
   "cell_type": "markdown",
   "metadata": {}
  },
  {
   "source": [
    "Part b\n",
    "---\n",
    "\n",
    "Since the linear recurrance was solved in 6 steps, we know that if the first 6 match, the rest of the pattern will match. So I can find the starting index that will match indexes 0-5. In other words, once `[1, 0, 1, 0, 1, 0]` is repeated, we found our period"
   ],
   "cell_type": "markdown",
   "metadata": {}
  },
  {
   "cell_type": "code",
   "execution_count": 14,
   "metadata": {},
   "outputs": [
    {
     "output_type": "stream",
     "name": "stdout",
     "text": [
      "63\n"
     ]
    }
   ],
   "source": [
    "for i in range(6, len(recurrence)):\n",
    "    if recurrence[i : i + 6] == [1, 0, 1, 0, 1, 0]:\n",
    "        print(i)"
   ]
  },
  {
   "source": [
    "So our period is 63. I can quickly double check this by comparing the first 63 to the next 63"
   ],
   "cell_type": "markdown",
   "metadata": {}
  },
  {
   "cell_type": "code",
   "execution_count": 15,
   "metadata": {},
   "outputs": [
    {
     "output_type": "execute_result",
     "data": {
      "text/plain": [
       "True"
      ]
     },
     "metadata": {},
     "execution_count": 15
    }
   ],
   "source": [
    "recurrence[0:62] == recurrence[63:125]"
   ]
  }
 ]
}