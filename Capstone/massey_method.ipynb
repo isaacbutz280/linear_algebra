{
 "metadata": {
  "language_info": {
   "codemirror_mode": {
    "name": "ipython",
    "version": 3
   },
   "file_extension": ".py",
   "mimetype": "text/x-python",
   "name": "python",
   "nbconvert_exporter": "python",
   "pygments_lexer": "ipython3",
   "version": "3.8.5"
  },
  "orig_nbformat": 2,
  "kernelspec": {
   "name": "python385jvsc74a57bd0916dbcbb3f70747c44a77c7bcd40155683ae19c65e1c03b4aa3499c5328201f1",
   "display_name": "Python 3.8.5 64-bit"
  },
  "metadata": {
   "interpreter": {
    "hash": "916dbcbb3f70747c44a77c7bcd40155683ae19c65e1c03b4aa3499c5328201f1"
   }
  }
 },
 "nbformat": 4,
 "nbformat_minor": 2,
 "cells": [
  {
   "cell_type": "code",
   "execution_count": 1,
   "metadata": {},
   "outputs": [],
   "source": [
    "import numpy as np\n",
    "import pandas as pd"
   ]
  },
  {
   "source": [
    "Implementing the Massey Method\n",
    "===\n",
    "\n",
    "The [Massey Method](https://en.wikipedia.org/wiki/Kenneth_Massey) is a way to rank groups based on a score between them. It is commonly used to rank sports teams. The general setup is a list of games, with a game containing two teams and the score between the two. The score is found by doing `team one's score - team two's score`. So if a games final score is Team A: 40, Team B: 37, then the entry will be Team A, Team B, 3. I have the data in this format already. Now, to do the Massey Method I will be following the shortcut as laid out by [Dr. Justin Wyss-Gallifent](https://www.math.umd.edu/~immortal/) in [this chapter](https://www.math.umd.edu/~immortal/MATH401/ch_team_ranking.pdf)."
   ],
   "cell_type": "markdown",
   "metadata": {}
  },
  {
   "cell_type": "code",
   "execution_count": 2,
   "metadata": {},
   "outputs": [
    {
     "output_type": "execute_result",
     "data": {
      "text/plain": [
       "         Team 1        Team 2  Score\n",
       "0       Florida  MiamiFlorida      4\n",
       "1       Arizona        Hawaii     -7\n",
       "2     Villanova       Colgate     20\n",
       "3  YoungstownSt       Samford     23\n",
       "4          UCLA   CincinnatiU    -10"
      ],
      "text/html": "<div>\n<style scoped>\n    .dataframe tbody tr th:only-of-type {\n        vertical-align: middle;\n    }\n\n    .dataframe tbody tr th {\n        vertical-align: top;\n    }\n\n    .dataframe thead th {\n        text-align: right;\n    }\n</style>\n<table border=\"1\" class=\"dataframe\">\n  <thead>\n    <tr style=\"text-align: right;\">\n      <th></th>\n      <th>Team 1</th>\n      <th>Team 2</th>\n      <th>Score</th>\n    </tr>\n  </thead>\n  <tbody>\n    <tr>\n      <th>0</th>\n      <td>Florida</td>\n      <td>MiamiFlorida</td>\n      <td>4</td>\n    </tr>\n    <tr>\n      <th>1</th>\n      <td>Arizona</td>\n      <td>Hawaii</td>\n      <td>-7</td>\n    </tr>\n    <tr>\n      <th>2</th>\n      <td>Villanova</td>\n      <td>Colgate</td>\n      <td>20</td>\n    </tr>\n    <tr>\n      <th>3</th>\n      <td>YoungstownSt</td>\n      <td>Samford</td>\n      <td>23</td>\n    </tr>\n    <tr>\n      <th>4</th>\n      <td>UCLA</td>\n      <td>CincinnatiU</td>\n      <td>-10</td>\n    </tr>\n  </tbody>\n</table>\n</div>"
     },
     "metadata": {},
     "execution_count": 2
    }
   ],
   "source": [
    "df = pd.read_csv(\"team_scores.csv\")\n",
    "df.head()"
   ]
  },
  {
   "source": [
    "Functions\n",
    "---\n",
    "\n",
    "To assist, two functions were made.\n",
    "\n",
    "The first function below, `teams_dict()`, gives me a Python dictionary mapping the teams to an assingned number. This number later on will be their index for Matricies. The function works by concatinating all the teams in `'Team 1'` and `'Team 2'`, and then using `pd.unique()` to get all the unique team names.\n",
    "\n",
    "The next function, `make_massey()`, will take `df` and return `M` and `q`. `M` is a matrix where M<sub>i,i</sub> equals the number of games played by team i, and M<sub>i, j</sub> will be the inverse of the number of times teams i and j have played. `q` will be a vector such that q<sub>i</sub> is team i's cumulative score over all their games. Lastly, as per the shortcut method, I will set the last row of `M` to be all 1, and the last entry in `q` to be 0."
   ],
   "cell_type": "markdown",
   "metadata": {}
  },
  {
   "cell_type": "code",
   "execution_count": 3,
   "metadata": {},
   "outputs": [],
   "source": [
    "# Takes a DataFrame with 2 team lists. Will get all unique\n",
    "# team names, and give them a mapping.\n",
    "def teams_dict(df):\n",
    "    # Gets list of all unique team names\n",
    "    temp = pd.concat([df['Team 1'], df['Team 2']], axis=0)\n",
    "    unique_teams = pd.unique(temp)\n",
    "\n",
    "    # Return our dict, with the names zipped to numbers\n",
    "    return dict(zip(unique_teams, range(0, len(unique_teams))))\n",
    "\n",
    "\n",
    "# This method will iterate over the rows of our df. For each row, \n",
    "# it will get teams i and j. It incrments Mii and Mjj, decrements Mij and Mji, \n",
    "# and updates the total score in q appropriately. Then it sets the last row\n",
    "# of M to 1's, last entry of q to 0's, and returns\n",
    "def make_massey (df):\n",
    "    # Our dictionary of teams mapped to index.\n",
    "    # This is a dictionary so I have O(1) access time for team names\n",
    "    teams = teams_dict(df)\n",
    "    num_teams = len(teams)\n",
    "\n",
    "    M = np.zeros((num_teams, num_teams)  )\n",
    "    q = np.zeros((num_teams, 1)  )\n",
    "\n",
    "    for ind, x in df.iterrows():\n",
    "        # Getting the index of team 1 and team 2\n",
    "        i = teams[x['Team 1']]\n",
    "        j = teams[x['Team 2']]\n",
    "\n",
    "        # Updating the Mii and Mjj\n",
    "        M[i, i] += 1\n",
    "        M[j, j] += 1\n",
    "\n",
    "        # Update Mij and Mji\n",
    "        M[i, j] -= 1\n",
    "        M[j, i] -= 1\n",
    "\n",
    "        # Updating our scores\n",
    "        q[i] += x['Score']\n",
    "\n",
    "        # Notice this is -=. That is because the scores are in terms of team1\n",
    "        # so team 2 would want += -1*score, or just subtract the score\n",
    "        q[j] -= x['Score']\n",
    "    \n",
    "    # I need the last row of M to be all 1's, and last q is 0\n",
    "    M[-1] = np.ones((1, num_teams)  )\n",
    "    q[-1] = 0\n",
    "\n",
    "    return (M, q)"
   ]
  },
  {
   "source": [
    "Putting it All Together\n",
    "---\n",
    "\n",
    "Now that I have these functions to help, the process is simple. I can call `make_massey()`. Then, all I need to do is solve the linear equation \n",
    "\n",
    "> Mx = q\n",
    "\n",
    "for `x`. This is done using `np.linalg.solve()`. Lastly, I now have the relative rankings. I want to make a `DataFrame` that has the ordered rank, team name, and Massey ranking for each team. I do this by making a temporary `DataFrame` of just the Team names and Score rankings. Then I can sort this `temp` on the Rankings to get the teams in order. Lastly, I can just add a column for the numerical rankings, and export this as a csv file."
   ],
   "cell_type": "markdown",
   "metadata": {}
  },
  {
   "cell_type": "code",
   "execution_count": 4,
   "metadata": {},
   "outputs": [],
   "source": [
    "# Find the massey M and q\n",
    "M, q = make_massey(df)\n",
    "\n",
    "# I can now just do a normal linear solve to get the rankings, x\n",
    "x = np.linalg.solve(M,q)"
   ]
  },
  {
   "cell_type": "code",
   "execution_count": 5,
   "metadata": {},
   "outputs": [
    {
     "output_type": "execute_result",
     "data": {
      "text/plain": [
       "     Rank  Team Name  Score Ranking\n",
       "194     1  OhioState      60.327306\n",
       "150     2        LSU      52.584650\n",
       "209     3    Clemson      50.521256\n",
       "201     4    Alabama      47.377479\n",
       "33      5  Wisconsin      45.387632"
      ],
      "text/html": "<div>\n<style scoped>\n    .dataframe tbody tr th:only-of-type {\n        vertical-align: middle;\n    }\n\n    .dataframe tbody tr th {\n        vertical-align: top;\n    }\n\n    .dataframe thead th {\n        text-align: right;\n    }\n</style>\n<table border=\"1\" class=\"dataframe\">\n  <thead>\n    <tr style=\"text-align: right;\">\n      <th></th>\n      <th>Rank</th>\n      <th>Team Name</th>\n      <th>Score Ranking</th>\n    </tr>\n  </thead>\n  <tbody>\n    <tr>\n      <th>194</th>\n      <td>1</td>\n      <td>OhioState</td>\n      <td>60.327306</td>\n    </tr>\n    <tr>\n      <th>150</th>\n      <td>2</td>\n      <td>LSU</td>\n      <td>52.584650</td>\n    </tr>\n    <tr>\n      <th>209</th>\n      <td>3</td>\n      <td>Clemson</td>\n      <td>50.521256</td>\n    </tr>\n    <tr>\n      <th>201</th>\n      <td>4</td>\n      <td>Alabama</td>\n      <td>47.377479</td>\n    </tr>\n    <tr>\n      <th>33</th>\n      <td>5</td>\n      <td>Wisconsin</td>\n      <td>45.387632</td>\n    </tr>\n  </tbody>\n</table>\n</div>"
     },
     "metadata": {},
     "execution_count": 5
    }
   ],
   "source": [
    "# This gives me a way to get all of the team names\n",
    "team_dict = teams_dict(df)\n",
    "\n",
    "# The temp df, will hold team names and their massey score\n",
    "temp = pd.DataFrame()\n",
    "temp['Team Name'] = team_dict.keys()\n",
    "temp['Score Ranking'] = x\n",
    "\n",
    "# Now, sort this temp and make it my ranked df. I can then insert numerical ranks\n",
    "ranked_df = temp.sort_values(by=['Score Ranking'], ascending=False)\n",
    "ranked_df.insert(0, 'Rank', range(1, len(team_dict) + 1))\n",
    "\n",
    "ranked_df.head()"
   ]
  },
  {
   "cell_type": "code",
   "execution_count": 6,
   "metadata": {},
   "outputs": [],
   "source": [
    "# And export as a CSV as well\n",
    "ranked_df.to_csv('rank.csv', index=False)"
   ]
  }
 ]
}