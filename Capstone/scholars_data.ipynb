{
 "metadata": {
  "language_info": {
   "codemirror_mode": {
    "name": "ipython",
    "version": 3
   },
   "file_extension": ".py",
   "mimetype": "text/x-python",
   "name": "python",
   "nbconvert_exporter": "python",
   "pygments_lexer": "ipython3",
   "version": "3.8.5"
  },
  "orig_nbformat": 2,
  "kernelspec": {
   "name": "python385jvsc74a57bd0916dbcbb3f70747c44a77c7bcd40155683ae19c65e1c03b4aa3499c5328201f1",
   "display_name": "Python 3.8.5 64-bit"
  },
  "metadata": {
   "interpreter": {
    "hash": "916dbcbb3f70747c44a77c7bcd40155683ae19c65e1c03b4aa3499c5328201f1"
   }
  }
 },
 "nbformat": 4,
 "nbformat_minor": 2,
 "cells": [
  {
   "cell_type": "code",
   "execution_count": 1,
   "metadata": {},
   "outputs": [],
   "source": [
    "import pandas as pd"
   ]
  },
  {
   "source": [
    "Retrieving our Data\n",
    "===\n",
    "\n",
    "The first step to this process is getting all the data. We found a website named [SportsBookReviewsOnline.com](https://www.sportsbookreviewsonline.com/scoresoddsarchives/ncaafootball/ncaafootballoddsarchives.htm) that had the scores of NCAA football games for multiple years. The data downloaded into an .xlsx file (Microsoft Excel), where it was easily output into a .csv file. The data was imported into a Python `Panda's DataFrame`, which is shown below.\n",
    "\n",
    "This data was lightly validated by comparing a couple games between this database and [CBS sports](https://www.cbssports.com/college-football/scoreboard/FBS/2019/regular/1/) website. All the games we looked at matched up, so the data seems trustworthy. That said, I am going to make some modifications to the data to clean it up."
   ],
   "cell_type": "markdown",
   "metadata": {}
  },
  {
   "cell_type": "code",
   "execution_count": 2,
   "metadata": {},
   "outputs": [
    {
     "output_type": "execute_result",
     "data": {
      "text/plain": [
       "   Date     Rot VH          Team  1st  2nd  3rd  4th  Final  Open Close    ML  \\\n",
       "0   824     291  V       Florida    7    0   10    7     24   8.5     7  -310   \n",
       "1   824     292  H  MiamiFlorida    3   10    0    7     20    49    46   250   \n",
       "2   824     293  V       Arizona    0   21   14    3     38    12  10.5  -400   \n",
       "3   824     294  H        Hawaii   14   14    7   10     45    71    71   300   \n",
       "4   824  309801  V     Villanova    0   27    0    7     34  34.5    35   230   \n",
       "\n",
       "    2H  \n",
       "0  7.5  \n",
       "1   23  \n",
       "2    8  \n",
       "3   38  \n",
       "4   20  "
      ],
      "text/html": "<div>\n<style scoped>\n    .dataframe tbody tr th:only-of-type {\n        vertical-align: middle;\n    }\n\n    .dataframe tbody tr th {\n        vertical-align: top;\n    }\n\n    .dataframe thead th {\n        text-align: right;\n    }\n</style>\n<table border=\"1\" class=\"dataframe\">\n  <thead>\n    <tr style=\"text-align: right;\">\n      <th></th>\n      <th>Date</th>\n      <th>Rot</th>\n      <th>VH</th>\n      <th>Team</th>\n      <th>1st</th>\n      <th>2nd</th>\n      <th>3rd</th>\n      <th>4th</th>\n      <th>Final</th>\n      <th>Open</th>\n      <th>Close</th>\n      <th>ML</th>\n      <th>2H</th>\n    </tr>\n  </thead>\n  <tbody>\n    <tr>\n      <th>0</th>\n      <td>824</td>\n      <td>291</td>\n      <td>V</td>\n      <td>Florida</td>\n      <td>7</td>\n      <td>0</td>\n      <td>10</td>\n      <td>7</td>\n      <td>24</td>\n      <td>8.5</td>\n      <td>7</td>\n      <td>-310</td>\n      <td>7.5</td>\n    </tr>\n    <tr>\n      <th>1</th>\n      <td>824</td>\n      <td>292</td>\n      <td>H</td>\n      <td>MiamiFlorida</td>\n      <td>3</td>\n      <td>10</td>\n      <td>0</td>\n      <td>7</td>\n      <td>20</td>\n      <td>49</td>\n      <td>46</td>\n      <td>250</td>\n      <td>23</td>\n    </tr>\n    <tr>\n      <th>2</th>\n      <td>824</td>\n      <td>293</td>\n      <td>V</td>\n      <td>Arizona</td>\n      <td>0</td>\n      <td>21</td>\n      <td>14</td>\n      <td>3</td>\n      <td>38</td>\n      <td>12</td>\n      <td>10.5</td>\n      <td>-400</td>\n      <td>8</td>\n    </tr>\n    <tr>\n      <th>3</th>\n      <td>824</td>\n      <td>294</td>\n      <td>H</td>\n      <td>Hawaii</td>\n      <td>14</td>\n      <td>14</td>\n      <td>7</td>\n      <td>10</td>\n      <td>45</td>\n      <td>71</td>\n      <td>71</td>\n      <td>300</td>\n      <td>38</td>\n    </tr>\n    <tr>\n      <th>4</th>\n      <td>824</td>\n      <td>309801</td>\n      <td>V</td>\n      <td>Villanova</td>\n      <td>0</td>\n      <td>27</td>\n      <td>0</td>\n      <td>7</td>\n      <td>34</td>\n      <td>34.5</td>\n      <td>35</td>\n      <td>230</td>\n      <td>20</td>\n    </tr>\n  </tbody>\n</table>\n</div>"
     },
     "metadata": {},
     "execution_count": 2
    }
   ],
   "source": [
    "df = pd.read_csv(\"ncaa_football_2019.csv\")\n",
    "df.head()"
   ]
  },
  {
   "source": [
    "I want to look at any teams that only appear once. If a team only appears once, there is a high likelyhood that it is a typo. I can manually investigate and change the data to be more accurate"
   ],
   "cell_type": "markdown",
   "metadata": {}
  },
  {
   "cell_type": "code",
   "execution_count": 3,
   "metadata": {},
   "outputs": [
    {
     "output_type": "execute_result",
     "data": {
      "text/plain": [
       "      Date     Rot VH                  Team  1st  2nd  3rd  4th  Final  Open  \\\n",
       "1077  1005     322  H      NorthernIllinois   14    3    0    3     20     6   \n",
       "1127  1005     372  H               Buffalo    0    7    0    7     20    55   \n",
       "1196  1005  310265  V          NORTHALABAMA    2    0   13   19     34   3.5   \n",
       "1227  1005  310296  H         NichollsState    6   14    7    7     34     3   \n",
       "1246  1005  310315  V         SavannahState    7    9    3    0     19    NL   \n",
       "2604  1123     125  V               TexasAM    0    3    3    7     13    46   \n",
       "2639  1123     160  H      AppalachianState    7    7   14    7     35    28   \n",
       "2767  1123  310474  H     ArkansasPineBluff   10   21    0   14     45    14   \n",
       "2771  1123  310478  H         KennesawState    7    7   14   14     42  31.5   \n",
       "3014  1220  310705  N         UW-Whitewater    0    0    7    7     14  68.5   \n",
       "3015  1220  310706  N  NorthCentralIllinois   13   14    7    7     41  13.5   \n",
       "\n",
       "      Close      ML    2H  \n",
       "1077      4    -170   1.5  \n",
       "1127   51.5     135  22.5  \n",
       "1196      2    -130     4  \n",
       "1227  3-115    -160    pk  \n",
       "1246   44.5     475  21.5  \n",
       "2604   43.5     400    20  \n",
       "2639   28.5   -8000    13  \n",
       "2767   14.5    -600     7  \n",
       "2771   31.5  -13500  11.5  \n",
       "3014   69.5     400  29.5  \n",
       "3015   13.5    -550     1  "
      ],
      "text/html": "<div>\n<style scoped>\n    .dataframe tbody tr th:only-of-type {\n        vertical-align: middle;\n    }\n\n    .dataframe tbody tr th {\n        vertical-align: top;\n    }\n\n    .dataframe thead th {\n        text-align: right;\n    }\n</style>\n<table border=\"1\" class=\"dataframe\">\n  <thead>\n    <tr style=\"text-align: right;\">\n      <th></th>\n      <th>Date</th>\n      <th>Rot</th>\n      <th>VH</th>\n      <th>Team</th>\n      <th>1st</th>\n      <th>2nd</th>\n      <th>3rd</th>\n      <th>4th</th>\n      <th>Final</th>\n      <th>Open</th>\n      <th>Close</th>\n      <th>ML</th>\n      <th>2H</th>\n    </tr>\n  </thead>\n  <tbody>\n    <tr>\n      <th>1077</th>\n      <td>1005</td>\n      <td>322</td>\n      <td>H</td>\n      <td>NorthernIllinois</td>\n      <td>14</td>\n      <td>3</td>\n      <td>0</td>\n      <td>3</td>\n      <td>20</td>\n      <td>6</td>\n      <td>4</td>\n      <td>-170</td>\n      <td>1.5</td>\n    </tr>\n    <tr>\n      <th>1127</th>\n      <td>1005</td>\n      <td>372</td>\n      <td>H</td>\n      <td>Buffalo</td>\n      <td>0</td>\n      <td>7</td>\n      <td>0</td>\n      <td>7</td>\n      <td>20</td>\n      <td>55</td>\n      <td>51.5</td>\n      <td>135</td>\n      <td>22.5</td>\n    </tr>\n    <tr>\n      <th>1196</th>\n      <td>1005</td>\n      <td>310265</td>\n      <td>V</td>\n      <td>NORTHALABAMA</td>\n      <td>2</td>\n      <td>0</td>\n      <td>13</td>\n      <td>19</td>\n      <td>34</td>\n      <td>3.5</td>\n      <td>2</td>\n      <td>-130</td>\n      <td>4</td>\n    </tr>\n    <tr>\n      <th>1227</th>\n      <td>1005</td>\n      <td>310296</td>\n      <td>H</td>\n      <td>NichollsState</td>\n      <td>6</td>\n      <td>14</td>\n      <td>7</td>\n      <td>7</td>\n      <td>34</td>\n      <td>3</td>\n      <td>3-115</td>\n      <td>-160</td>\n      <td>pk</td>\n    </tr>\n    <tr>\n      <th>1246</th>\n      <td>1005</td>\n      <td>310315</td>\n      <td>V</td>\n      <td>SavannahState</td>\n      <td>7</td>\n      <td>9</td>\n      <td>3</td>\n      <td>0</td>\n      <td>19</td>\n      <td>NL</td>\n      <td>44.5</td>\n      <td>475</td>\n      <td>21.5</td>\n    </tr>\n    <tr>\n      <th>2604</th>\n      <td>1123</td>\n      <td>125</td>\n      <td>V</td>\n      <td>TexasAM</td>\n      <td>0</td>\n      <td>3</td>\n      <td>3</td>\n      <td>7</td>\n      <td>13</td>\n      <td>46</td>\n      <td>43.5</td>\n      <td>400</td>\n      <td>20</td>\n    </tr>\n    <tr>\n      <th>2639</th>\n      <td>1123</td>\n      <td>160</td>\n      <td>H</td>\n      <td>AppalachianState</td>\n      <td>7</td>\n      <td>7</td>\n      <td>14</td>\n      <td>7</td>\n      <td>35</td>\n      <td>28</td>\n      <td>28.5</td>\n      <td>-8000</td>\n      <td>13</td>\n    </tr>\n    <tr>\n      <th>2767</th>\n      <td>1123</td>\n      <td>310474</td>\n      <td>H</td>\n      <td>ArkansasPineBluff</td>\n      <td>10</td>\n      <td>21</td>\n      <td>0</td>\n      <td>14</td>\n      <td>45</td>\n      <td>14</td>\n      <td>14.5</td>\n      <td>-600</td>\n      <td>7</td>\n    </tr>\n    <tr>\n      <th>2771</th>\n      <td>1123</td>\n      <td>310478</td>\n      <td>H</td>\n      <td>KennesawState</td>\n      <td>7</td>\n      <td>7</td>\n      <td>14</td>\n      <td>14</td>\n      <td>42</td>\n      <td>31.5</td>\n      <td>31.5</td>\n      <td>-13500</td>\n      <td>11.5</td>\n    </tr>\n    <tr>\n      <th>3014</th>\n      <td>1220</td>\n      <td>310705</td>\n      <td>N</td>\n      <td>UW-Whitewater</td>\n      <td>0</td>\n      <td>0</td>\n      <td>7</td>\n      <td>7</td>\n      <td>14</td>\n      <td>68.5</td>\n      <td>69.5</td>\n      <td>400</td>\n      <td>29.5</td>\n    </tr>\n    <tr>\n      <th>3015</th>\n      <td>1220</td>\n      <td>310706</td>\n      <td>N</td>\n      <td>NorthCentralIllinois</td>\n      <td>13</td>\n      <td>14</td>\n      <td>7</td>\n      <td>7</td>\n      <td>41</td>\n      <td>13.5</td>\n      <td>13.5</td>\n      <td>-550</td>\n      <td>1</td>\n    </tr>\n  </tbody>\n</table>\n</div>"
     },
     "metadata": {},
     "execution_count": 3
    }
   ],
   "source": [
    "# Getting the data that only occurs once\n",
    "df[df.groupby('Team').Team.transform('count') == 1]"
   ]
  },
  {
   "source": [
    "After some searching of the database and google work, here is what I found out. The data should be:\n",
    "\n",
    "1. NoIllinois\n",
    "2. BuffaloU\n",
    "3. NorthAlabama\n",
    "4. NichollsSt\n",
    "5. This entry is actually okay. This team only had one game recorded in this database since they are a D3 school\n",
    "6. TexasA&M\n",
    "7. AppalachianSt\n",
    "8. ArkPineBluff\n",
    "9. KennesawSt\n",
    "\n",
    "Now, for UM-Whitewater and NorthCentralIllinois, I can remove them from the data set. They only played one game in this set, and it was against each other. Since they don't have any common opponents with the rest of the dataset, they are junk. Normally dropping rows from a Pandas dataframe could cause some issues, however here it won't since I am removing a whole game, aka 2 rows. We end with SavannahState being the only team to play 1 game, as we want."
   ],
   "cell_type": "markdown",
   "metadata": {}
  },
  {
   "cell_type": "code",
   "execution_count": 4,
   "metadata": {},
   "outputs": [
    {
     "output_type": "execute_result",
     "data": {
      "text/plain": [
       "      Date     Rot VH           Team  1st  2nd  3rd  4th  Final Open Close  \\\n",
       "1246  1005  310315  V  SavannahState    7    9    3    0     19   NL  44.5   \n",
       "\n",
       "       ML    2H  \n",
       "1246  475  21.5  "
      ],
      "text/html": "<div>\n<style scoped>\n    .dataframe tbody tr th:only-of-type {\n        vertical-align: middle;\n    }\n\n    .dataframe tbody tr th {\n        vertical-align: top;\n    }\n\n    .dataframe thead th {\n        text-align: right;\n    }\n</style>\n<table border=\"1\" class=\"dataframe\">\n  <thead>\n    <tr style=\"text-align: right;\">\n      <th></th>\n      <th>Date</th>\n      <th>Rot</th>\n      <th>VH</th>\n      <th>Team</th>\n      <th>1st</th>\n      <th>2nd</th>\n      <th>3rd</th>\n      <th>4th</th>\n      <th>Final</th>\n      <th>Open</th>\n      <th>Close</th>\n      <th>ML</th>\n      <th>2H</th>\n    </tr>\n  </thead>\n  <tbody>\n    <tr>\n      <th>1246</th>\n      <td>1005</td>\n      <td>310315</td>\n      <td>V</td>\n      <td>SavannahState</td>\n      <td>7</td>\n      <td>9</td>\n      <td>3</td>\n      <td>0</td>\n      <td>19</td>\n      <td>NL</td>\n      <td>44.5</td>\n      <td>475</td>\n      <td>21.5</td>\n    </tr>\n  </tbody>\n</table>\n</div>"
     },
     "metadata": {},
     "execution_count": 4
    }
   ],
   "source": [
    "df.iat[1077, 3] = 'NoIllinois'\n",
    "df.iat[1127, 3] = 'BuffaloU'\n",
    "df.iat[1196, 3] = 'NorthAlabama'\n",
    "df.iat[1227, 3] = 'NichollsSt'\n",
    "df.iat[2604, 3] = 'TexasA&M'\n",
    "df.iat[2639, 3] = 'AppalachianSt'\n",
    "df.iat[2767, 3] = 'ArkPineBluff'\n",
    "df.iat[2771, 3] = 'KennesawSt'\n",
    "\n",
    "df.drop(3014, inplace=True)\n",
    "df.drop(3015, inplace=True)\n",
    "df[df.groupby('Team').Team.transform('count') == 1]"
   ]
  },
  {
   "source": [
    "Getting What's Useful\n",
    "---\n",
    "\n",
    "Now, to put the data in a readable format. I ran 3 list comprehensions to get the data in a new `DataFrame` that is easy to read. I needed to get half of the teams in `team1s`, their opponents in `team2s`, and the scores in terms of the first team into `scores`. "
   ],
   "cell_type": "markdown",
   "metadata": {}
  },
  {
   "cell_type": "code",
   "execution_count": 5,
   "metadata": {},
   "outputs": [],
   "source": [
    "# Gets the team for even numbered rows\n",
    "team1s = [x['Team'] for i, x in df.iterrows() if i%2 == 0]\n",
    "\n",
    "# Gets the team for odd numbered rows, the opponenets\n",
    "team2s = [x['Team'] for i, x in df.iterrows() if i%2 == 1]\n",
    "\n",
    "# Goes through the table by 2's. Subtracts team 2's scores from team 1's\n",
    "scores = [df.iloc[x]['Final'] - df.iloc[x + 1]['Final'] for x in range(0,df.shape[0],2)]"
   ]
  },
  {
   "source": [
    "Assembling Clean Data\n",
    "---\n",
    "\n",
    "Now I can assemble the scores into a simple `DataFrame`. That way I can easily manipulate the data in Python, or export it so the group can use it in their preferred software. "
   ],
   "cell_type": "markdown",
   "metadata": {}
  },
  {
   "cell_type": "code",
   "execution_count": 6,
   "metadata": {
    "tags": []
   },
   "outputs": [
    {
     "output_type": "execute_result",
     "data": {
      "text/plain": [
       "         Team 1        Team 2  Score\n",
       "0       Florida  MiamiFlorida      4\n",
       "1       Arizona        Hawaii     -7\n",
       "2     Villanova       Colgate     20\n",
       "3  YoungstownSt       Samford     23\n",
       "4          UCLA   CincinnatiU    -10"
      ],
      "text/html": "<div>\n<style scoped>\n    .dataframe tbody tr th:only-of-type {\n        vertical-align: middle;\n    }\n\n    .dataframe tbody tr th {\n        vertical-align: top;\n    }\n\n    .dataframe thead th {\n        text-align: right;\n    }\n</style>\n<table border=\"1\" class=\"dataframe\">\n  <thead>\n    <tr style=\"text-align: right;\">\n      <th></th>\n      <th>Team 1</th>\n      <th>Team 2</th>\n      <th>Score</th>\n    </tr>\n  </thead>\n  <tbody>\n    <tr>\n      <th>0</th>\n      <td>Florida</td>\n      <td>MiamiFlorida</td>\n      <td>4</td>\n    </tr>\n    <tr>\n      <th>1</th>\n      <td>Arizona</td>\n      <td>Hawaii</td>\n      <td>-7</td>\n    </tr>\n    <tr>\n      <th>2</th>\n      <td>Villanova</td>\n      <td>Colgate</td>\n      <td>20</td>\n    </tr>\n    <tr>\n      <th>3</th>\n      <td>YoungstownSt</td>\n      <td>Samford</td>\n      <td>23</td>\n    </tr>\n    <tr>\n      <th>4</th>\n      <td>UCLA</td>\n      <td>CincinnatiU</td>\n      <td>-10</td>\n    </tr>\n  </tbody>\n</table>\n</div>"
     },
     "metadata": {},
     "execution_count": 6
    }
   ],
   "source": [
    "# Our dataframe\n",
    "massey_df = pd.DataFrame()\n",
    "\n",
    "# Adding in our lists\n",
    "massey_df['Team 1'] = team1s\n",
    "massey_df['Team 2'] = team2s\n",
    "massey_df['Score'] = scores\n",
    "\n",
    "massey_df.head()"
   ]
  },
  {
   "cell_type": "code",
   "execution_count": 7,
   "metadata": {},
   "outputs": [],
   "source": [
    "# And export as a CSV as well\n",
    "massey_df.to_csv('team_scores.csv', index=False)"
   ]
  }
 ]
}